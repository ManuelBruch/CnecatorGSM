{
 "cells": [
  {
   "cell_type": "markdown",
   "id": "e36de6f6",
   "metadata": {},
   "source": [
    "# GSM of C. necator: model validation"
   ]
  },
  {
   "cell_type": "markdown",
   "id": "092c23ad",
   "metadata": {},
   "source": [
    "### load in modules"
   ]
  },
  {
   "cell_type": "code",
   "execution_count": 34,
   "id": "8d08e62b",
   "metadata": {},
   "outputs": [],
   "source": [
    "import pandas as pd\n",
    "import cobra\n",
    "from cobra.flux_analysis import pfba\n",
    "import json\n",
    "import matplotlib.pyplot as plt\n",
    "from cobra import Model, Reaction, Metabolite\n",
    "import numpy as np\n",
    "from cobra.flux_analysis.variability import flux_variability_analysis\n",
    "from matplotlib_venn import venn3, venn2"
   ]
  },
  {
   "cell_type": "code",
   "execution_count": 35,
   "id": "8a284dd9",
   "metadata": {},
   "outputs": [],
   "source": [
    "m = cobra.io.read_sbml_model('../Model/iCN1361.xml')\n"
   ]
  },
  {
   "cell_type": "markdown",
   "id": "22729c16",
   "metadata": {},
   "source": [
    "## Carbon source utilisation"
   ]
  },
  {
   "cell_type": "markdown",
   "id": "d2bfb6ed",
   "metadata": {},
   "source": [
    "#### load in in vivo phenotypes"
   ]
  },
  {
   "cell_type": "code",
   "execution_count": 22,
   "id": "4397ce35",
   "metadata": {},
   "outputs": [],
   "source": [
    "carbon_sources = pd.read_excel('Data/Carbon_source_utilisation_phenotypes.xlsx', sheet_name='Sheet1')\n"
   ]
  },
  {
   "cell_type": "markdown",
   "id": "37575aa0",
   "metadata": {},
   "source": [
    "#### Match the substrate names to the IDs used in the model "
   ]
  },
  {
   "cell_type": "code",
   "execution_count": 23,
   "id": "93abe6e5",
   "metadata": {},
   "outputs": [],
   "source": [
    "\n",
    "substrates = list(carbon_sources['Metabolite ID'])\n",
    "substrates2 = []\n",
    "match = {}\n",
    "match2 = {}\n",
    "for i in substrates:\n",
    "    if i[0:3] != 'M_':\n",
    "        substrates2.append('M_'+i)\n",
    "        match['M_' + i] = i\n",
    "        match2[i] = 'M_' + i\n",
    "    else:\n",
    "        substrates2.append(i)\n",
    "        match[i] = i\n",
    "        match2[i] = i"
   ]
  },
  {
   "cell_type": "markdown",
   "id": "c1ea50de",
   "metadata": {},
   "source": [
    "### Simulate growth on each substrate in the model"
   ]
  },
  {
   "cell_type": "code",
   "execution_count": 24,
   "id": "b6a393a6",
   "metadata": {},
   "outputs": [],
   "source": [
    "\n",
    "# set the constraints\n",
    "m.reactions.EX_BETA_D_FRUCTOSE_e.bounds = (0.0, 0.0)\n",
    "m.reactions.EX_CARBON_DIOXIDE_e.bounds = (0.0, 1000.0)\n",
    "m.reactions.R_ATPM.bounds = (3.0, 1000.0)\n",
    "m.objective = 'R_Biomass'\n",
    "m.objective_direction = 'max'\n",
    "m.reactions.R_Biomass.bounds = (0.0, 1000.0)\n",
    "\n",
    "media = ['EX_OXYGEN_MOLECULE_e', 'EX_AMMONIUM_e', 'EX_SULFATE_e', 'EX_FE2_e', 'EX_Pi_e', 'EX_PROTON_e', 'EX_WATER_e']\n",
    "\n",
    "\n",
    "for i in m.reactions:\n",
    "    if i.id not in media:\n",
    "        if 'EX_' in i.id:\n",
    "            if '_e' in i.id:\n",
    "                i.bounds = (0.0, 1000.0)\n",
    "            else:\n",
    "                i.bounds = (0.0, 0.0)\n",
    "    else:\n",
    "        i.bounds = (-1000.0, 1000.0)\n",
    "\n",
    "\n",
    "growth_phenotypes = {}\n",
    "# check to see if metabolite in the model\n",
    "for met in substrates2:\n",
    "    #print(met)\n",
    "    \n",
    "    # check if in the model\n",
    "    if met in m.metabolites:\n",
    "        \n",
    "        with m:\n",
    "            # add transport reaction if not already in the model\n",
    "            tx_name1 = 'EX_' + met \n",
    "            tx_name2 = 'EX_' + met.split('M_')[1] + '_e'\n",
    "            if tx_name1 not in m.reactions and tx_name2 not in m.reactions:\n",
    "                reaction = Reaction(met + '_tx')\n",
    "                reaction.name = met + ' transporter'\n",
    "                reaction.lower_bound = -10.0\n",
    "                reaction.upper_bound = 0.0\n",
    "                reaction.add_metabolites({m.metabolites.get_by_id(met) : -1.0})\n",
    "                m.add_reaction(reaction)\n",
    "            elif tx_name1 in m.reactions:\n",
    "                m.reactions.get_by_id(tx_name1).bounds = (-10.0, 0.0)\n",
    "            elif tx_name2 in m.reactions:\n",
    "                m.reactions.get_by_id(tx_name2).bounds = (-10.0, 0.0)\n",
    "                \n",
    "\n",
    "                \n",
    "                \n",
    "            # check whether solution exists\n",
    "            try:\n",
    "                \n",
    "                sol = pfba(m)\n",
    "                #print(reaction.id, sol[reaction.id], sol['R_Biomass'])\n",
    "                if sol['R_Biomass'] > 0.01:\n",
    "                    growth_phenotypes[met] = 1.0\n",
    "                else:\n",
    "                    growth_phenotypes[met] = 0.0\n",
    "            except:\n",
    "                growth_phenotypes[met] = 0.0\n",
    "    else:\n",
    "        growth_phenotypes[met] = 0.0\n",
    "        \n",
    "        \n",
    "        \n",
    "\n",
    "\n",
    "\n"
   ]
  },
  {
   "cell_type": "code",
   "execution_count": 28,
   "id": "8c432b48",
   "metadata": {
    "scrolled": true
   },
   "outputs": [
    {
     "name": "stdout",
     "output_type": "stream",
     "text": [
      "Number of tested carbon sources:  131\n",
      "Number of true positives:  62\n",
      "Number of false positives:  15\n",
      "Number of true negatives:  52\n",
      "Number of false negatives:  2\n",
      "Overall accuracy:  0.8702290076335878\n"
     ]
    }
   ],
   "source": [
    "### Print results to dataframe\n",
    "df = pd.DataFrame(index = substrates2)\n",
    "\n",
    "GSM_phenotypes = []\n",
    "Experimental_phenotypes = []\n",
    "substrate = []\n",
    "metabolite_ID = []\n",
    "result = []\n",
    "\n",
    "FP = 0\n",
    "FN = 0\n",
    "TP = 0\n",
    "TN = 0\n",
    "false_positives = []\n",
    "false_negatives = []\n",
    "\n",
    "for i, j in growth_phenotypes.items():\n",
    "    if j == 1.0:\n",
    "        for ind, met in enumerate(carbon_sources['Metabolite ID']):\n",
    "            if met == match[i]:\n",
    "                if carbon_sources['Experimental'][ind] == 'X':\n",
    "                    result.append('FP')\n",
    "                    GSM_phenotypes.append('O')\n",
    "                    Experimental_phenotypes.append('X')\n",
    "                    metabolite_ID.append(met)\n",
    "                    substrate.append(carbon_sources['Substrate'][ind])\n",
    "                    FP += 1\n",
    "                    false_positives.append(i)\n",
    "                    \n",
    "                elif carbon_sources['Experimental'][ind] == 'O':\n",
    "                    result.append('TP')\n",
    "                    GSM_phenotypes.append('O')\n",
    "                    Experimental_phenotypes.append('O')\n",
    "                    metabolite_ID.append(met)\n",
    "                    substrate.append(carbon_sources['Substrate'][ind])\n",
    "                    TP += 1\n",
    "                    \n",
    "                    \n",
    "    if j == 0.0:\n",
    "        for ind, met in enumerate(carbon_sources['Metabolite ID']):\n",
    "            if met == match[i]:\n",
    "                if carbon_sources['Experimental'][ind] == 'X':\n",
    "                    result.append('TN')\n",
    "                    GSM_phenotypes.append('X')\n",
    "                    Experimental_phenotypes.append('X')\n",
    "                    metabolite_ID.append(met)\n",
    "                    substrate.append(carbon_sources['Substrate'][ind])\n",
    "                    TN += 1\n",
    "                    \n",
    "                    \n",
    "                elif carbon_sources['Experimental'][ind] == 'O':\n",
    "                    result.append('FN')\n",
    "                    GSM_phenotypes.append('X')\n",
    "                    Experimental_phenotypes.append('O')\n",
    "                    metabolite_ID.append(met)\n",
    "                    substrate.append(carbon_sources['Substrate'][ind])\n",
    "                    FN += 1\n",
    "                    false_negatives.append(i)\n",
    "\n",
    "df.insert(0, column = 'Substrate', value = substrate)\n",
    "df.insert(1, column = 'Metabolite ID', value = metabolite_ID)\n",
    "df.insert(2, column = 'GSM phenotype', value = GSM_phenotypes)\n",
    "df.insert(3, column = 'Experimental phenotype', value = Experimental_phenotypes)\n",
    "df.insert(4, column = 'Result', value = result)\n",
    "\n",
    "print('Number of tested carbon sources: ', len(substrates2))\n",
    "print('Number of true positives: ', TP)\n",
    "print('Number of false positives: ', FP)\n",
    "print('Number of true negatives: ', TN)\n",
    "print('Number of false negatives: ', FN)\n",
    "overall_accuracy = (TP+TN)/(TP+TN+FP+FN)\n",
    "print('Overall accuracy: ',  overall_accuracy)"
   ]
  },
  {
   "cell_type": "markdown",
   "id": "ad99012e",
   "metadata": {},
   "source": [
    "### Save to excel file"
   ]
  },
  {
   "cell_type": "code",
   "execution_count": 31,
   "id": "c012c3b1",
   "metadata": {},
   "outputs": [],
   "source": [
    "df.to_excel('SupplementaryFile2_CarbonSourceUtilisation.xlsx')"
   ]
  },
  {
   "cell_type": "markdown",
   "id": "e714faf7",
   "metadata": {},
   "source": [
    "## Validation of fluxes for frowth on fructose"
   ]
  },
  {
   "cell_type": "markdown",
   "id": "87373bf2",
   "metadata": {},
   "source": [
    "### Prediction of external fluxes"
   ]
  },
  {
   "cell_type": "code",
   "execution_count": 36,
   "id": "2f175fb9",
   "metadata": {},
   "outputs": [
    {
     "name": "stdout",
     "output_type": "stream",
     "text": [
      "Growth rate:  0.2510580527153153\n",
      "EX_OXYGEN_MOLECULE_e -4.909673110304909\n",
      "EX_AMMONIUM_e -2.630871817039055\n",
      "EX_WATER_e 11.951833486031049\n",
      "EX_PROTON_e 2.311507343016943\n",
      "EX_CARBON_DIOXIDE_e 5.20836937160187\n",
      "EX_SULFATE_e -0.04060446894821441\n",
      "EX_Pi_e -0.22327608505539098\n",
      "EX_BETA_D_FRUCTOSE_e -2.6\n",
      "EX_FE2_e -0.0012257098506314997\n",
      "EX_CH33ADO_e 0.001783547286630084\n"
     ]
    }
   ],
   "source": [
    "\n",
    "\n",
    "# turn all uptake transports off if not in media\n",
    "media = ['EX_OXYGEN_MOLECULE_e', 'EX_AMMONIUM_e', 'EX_SULFATE_e', 'EX_FE2_e', 'EX_Pi_e']\n",
    "\n",
    "for i in m.reactions:\n",
    "    if i.id not in media:\n",
    "        if 'EX_' in i.id:\n",
    "            if '_e' in i.id:\n",
    "                i.bounds = (0.0, 1000.0)\n",
    "            else:\n",
    "                i.bounds = (0.0, 0.0)\n",
    "    else:\n",
    "        i.bounds = (-1000.0, 1000.0)\n",
    "            \n",
    "m.reactions.EX_BETA_D_FRUCTOSE_e.bounds = (-2.6, -2.6)\n",
    "m.reactions.R_FRUPTS.bounds = (0.0, 0.0) # previous study found the ABC is the active reaction [ref]\n",
    "m.objective = 'R_Biomass'\n",
    "sol_fru = pfba(m)\n",
    "\n",
    "print('Growth rate: ', sol_fru['R_Biomass'])\n",
    "for i in m.reactions:\n",
    "    if 'EX_' in i.id:\n",
    "        if abs(sol_fru[i.id]) > 0.0:\n",
    "            print(i.id, sol_fru[i.id])"
   ]
  },
  {
   "cell_type": "markdown",
   "id": "ee317913",
   "metadata": {},
   "source": [
    "|  Substrate           | In vivo flux  | In silico flux |\n",
    "|------------------|---------------|---------------|\n",
    "| Fructose     | -2.6 |   -2.6* |\n",
    "| Oxygen  | -4.6+/-0.3 |  -4.91 |\n",
    "| Sulfate    | - |   -0.04 |\n",
    "| Carbon dioxide  | - |  5.21 |\n",
    "| Ammonium | - |    -2.63 |  \n",
    "| Phosphate | - |   -0.22 |\n",
    "| Growth rate | 0.25+/-0.08 |  0.25 |\n"
   ]
  },
  {
   "cell_type": "markdown",
   "id": "13133dac",
   "metadata": {},
   "source": [
    "### Prediction of internal fluxes using 13-C MFA analysis"
   ]
  },
  {
   "cell_type": "markdown",
   "id": "4a639dca",
   "metadata": {},
   "source": [
    "#### load 13-C data"
   ]
  },
  {
   "cell_type": "code",
   "execution_count": 37,
   "id": "c0b75461",
   "metadata": {},
   "outputs": [],
   "source": [
    "\n",
    "c13_model = pd.read_excel('Data/C13_MFA_results.xlsx', sheet_name='Sheet1')\n",
    "reac_mappings = pd.read_excel('Data/ReactionName_mappings.xlsx', sheet_name='Sheet1')\n"
   ]
  },
  {
   "cell_type": "code",
   "execution_count": 38,
   "id": "e7752888",
   "metadata": {},
   "outputs": [
    {
     "name": "stdout",
     "output_type": "stream",
     "text": [
      "R correlation coefficient:  0.9388041503107685 p-value:  6.751401631820812e-16\n",
      "R-Squared correlation coefficient:  0.881353232640724\n"
     ]
    },
    {
     "data": {
      "image/png": "[encoded data removed]",
      "text/plain": [
       "<Figure size 432x288 with 1 Axes>"
      ]
     },
     "metadata": {
      "needs_background": "light"
     },
     "output_type": "display_data"
    }
   ],
   "source": [
    "\n",
    "\n",
    "# Exclude the anaplerosis reactions\n",
    "reactions_exclude = ['R_OXALODECARB_RXN', 'R_PEPSYNTH_RXN', 'R_PEPDEPHOS_RXN', 'R_PEPCARBOX_RXN', 'R_PEPCARBOX_RXN2', 'R_MALIC_NADP_RXN']\n",
    "\n",
    "# Compare the results and add to list for correlation\n",
    "gsm_vals = []\n",
    "c13_vals = []\n",
    "c13_vals2 = {}\n",
    "gsm_vals2 = {}\n",
    "for ind, r in enumerate(c13_model['Reaction ID']):\n",
    "    reacs = r.split(';')\n",
    "    if reacs[0] not in reactions_exclude:\n",
    "        if len(reacs) > 1.0:\n",
    "            sum_flux = 0.0\n",
    "            for reaci in reacs:\n",
    "                sum_flux += sol_fru[reaci]/2.6 # normalise the flux to 1 mmol/gDCW/h of fructose\n",
    "\n",
    "            c13_vals.append(float(c13_model['13C-MFA'][ind]))\n",
    "            c13_vals2[reaci] = c13_model['13C-MFA'][ind]\n",
    "            gsm_vals.append(float(sum_flux))\n",
    "            gsm_vals2[reaci] = float(sum_flux)\n",
    "           \n",
    "        else:\n",
    "            c13_vals.append(float(c13_model['13C-MFA'][ind]))\n",
    "            gsm_vals.append(float(sol_fru[reacs[0]]/2.6))\n",
    "            c13_vals2[reacs[0]] = c13_model['13C-MFA'][ind]\n",
    "            gsm_vals2[reacs[0]] = sol_fru[reacs[0]]/2.6\n",
    "                 \n",
    "        \n",
    "        \n",
    "from scipy import stats\n",
    "\n",
    "x = np.linspace(-2, 2,2)\n",
    "y = x\n",
    "plt.plot(x, y)\n",
    "\n",
    "plt.plot(gsm_vals, c13_vals, 'bo', markersize = 8)\n",
    "axes = plt.gca()\n",
    "\n",
    "plt.rc('axes', linewidth = 2.0)\n",
    "plt.xticks(fontsize=10, weight = 'normal')\n",
    "plt.yticks(fontsize=10, weight = 'normal')\n",
    "\n",
    "axes.spines['right'].set_visible(False)\n",
    "axes.spines['top'].set_visible(False)\n",
    "plt.xlabel('Flux GSM', fontsize = 12, weight = \"bold\")\n",
    "plt.ylabel('Flux 13C-MFA', fontsize = 12, weight = \"bold\")\n",
    "plt.savefig('C13_Correlation.png', format = 'png')\n",
    "plt.tight_layout()\n",
    "slope, intercept, r_value_bio_out, p_value, std_err = stats.linregress(gsm_vals, c13_vals)\n",
    "print('R correlation coefficient: ', r_value_bio_out, 'p-value: ', p_value)\n",
    "print('R-Squared correlation coefficient: ', r_value_bio_out**2)"
   ]
  },
  {
   "cell_type": "markdown",
   "id": "bdbf184f",
   "metadata": {},
   "source": [
    "#### Flux variability analysis to whether the 13C flux values lie within the ranges at 90% of the optimal"
   ]
  },
  {
   "cell_type": "code",
   "execution_count": 15,
   "id": "da957a7e",
   "metadata": {},
   "outputs": [],
   "source": [
    "C13reacs = [] # only run FVA on the reactions in central carbon metabolism to save time\n",
    "for ind, r in enumerate(c13_vals2.keys()):\n",
    "    reacs = r.split(';')\n",
    "    for reac in reacs:\n",
    "        C13reacs.append(reac)"
   ]
  },
  {
   "cell_type": "code",
   "execution_count": 16,
   "id": "7bc3ecc0",
   "metadata": {},
   "outputs": [],
   "source": [
    "res90 = flux_variability_analysis(m, fraction_of_optimum = 0.9, reaction_list=C13reacs, processes = 6, pfba_factor= 1.2)\n"
   ]
  },
  {
   "cell_type": "code",
   "execution_count": 17,
   "id": "c4dead46",
   "metadata": {},
   "outputs": [
    {
     "name": "stdout",
     "output_type": "stream",
     "text": [
      "R_2TRANSKETO_RXN -0.3721298842952905 -0.050078361945076026 -0.008\n",
      "R_RIBULP3EPIM_RXN -0.7107119044153983 -0.06660885971498921 -0.008\n",
      "R_PHOSGLYPHOS_RXN -0.8160712622890833 0.991537995392259 -0.95\n",
      "R_GAPOXNPHOSPHN_RXN -0.991537995392311 0.8160712622890811 0.95\n",
      "R_CITSYN_RXN 0.49513620903133826 1.5112961887474 0.393\n",
      "R_ACONITATEDEHYDR_RXN 0.49513620903133826 1.276617353380889 0.393\n",
      "R_ISOCIT_CLEAV_RXN 2.9410900479095282e-05 1.150445479378119 0.0\n",
      "R_FUMHYDR_RXN -1.224917171780078 -0.40252038729814776 -0.393\n",
      "Number of reactions that agree with the FVA ranges:  25.0\n"
     ]
    }
   ],
   "source": [
    "count = 0.0\n",
    "for ind, i in enumerate(res90['minimum']):\n",
    "    if res90['minimum'].index[ind] in c13_vals2:\n",
    "        if res90['minimum'][ind]/2.6 <= c13_vals2[res90['minimum'].index[ind]] <= res90['maximum'][ind]/2.6:\n",
    "            count += 1.0\n",
    "        else:\n",
    "            print(res90['minimum'].index[ind], i/2.6, res90['maximum'][ind]/2.6, c13_vals2[res90['minimum'].index[ind]]) \n",
    "            \n",
    "print('Number of reactions that agree with the FVA ranges: ', count)"
   ]
  },
  {
   "cell_type": "code",
   "execution_count": null,
   "id": "e4d45ab0",
   "metadata": {},
   "outputs": [],
   "source": []
  },
  {
   "cell_type": "markdown",
   "id": "1f45e139",
   "metadata": {},
   "source": [
    "#### Save to excel file"
   ]
  },
  {
   "cell_type": "code",
   "execution_count": 18,
   "id": "94e13fc4",
   "metadata": {},
   "outputs": [],
   "source": [
    "df = pd.DataFrame(index = gsm_vals2.keys())\n",
    "\n",
    "\n",
    "gsm_flux = []\n",
    "c13_flux = []\n",
    "reacs_stoich = []\n",
    "FVA_min = []\n",
    "FVA_max = []\n",
    "for ind, i in enumerate(gsm_vals2.keys()):\n",
    "    gsm_flux.append(gsm_vals2[i])\n",
    "    c13_flux.append(c13_vals2[i])\n",
    "    FVA_min.append(res90['minimum'][i])\n",
    "    FVA_max.append(res90['maximum'][i])\n",
    "    reacs_stoich.append(m.reactions.get_by_id(i).reaction)\n",
    "    \n",
    "df.insert(0, column = 'Reaction', value = reacs_stoich)   \n",
    "df.insert(1, column = '13C-MFA flux', value = c13_flux)\n",
    "df.insert(2, column = 'GSM flux (pFBA)', value = gsm_flux)\n",
    "df.insert(3, column = 'FVA (min.)', value = FVA_min)\n",
    "df.insert(4, column = 'FVA (max.)', value = FVA_max)\n"
   ]
  },
  {
   "cell_type": "code",
   "execution_count": 20,
   "id": "bec71167",
   "metadata": {},
   "outputs": [],
   "source": [
    "df.to_excel('SupplementaryFile3_13CMFA.xlsx')\n"
   ]
  },
  {
   "cell_type": "markdown",
   "id": "c252e2d7",
   "metadata": {},
   "source": [
    "#### Plot the barcharts comparing 13-C and GSM flux values (Figure 1b)"
   ]
  },
  {
   "cell_type": "code",
   "execution_count": 163,
   "id": "120255c8",
   "metadata": {},
   "outputs": [],
   "source": [
    "reac_index = {}\n",
    "reac_titles = {}\n",
    "for ind, r in enumerate(reac_mappings['Reaction']):\n",
    "    reac_index[r] = reac_mappings['Index'][ind]\n",
    "    reac_titles[r] = reac_mappings['Abbreviation'][ind]\n",
    "    "
   ]
  },
  {
   "cell_type": "code",
   "execution_count": 164,
   "id": "60fac3a4",
   "metadata": {},
   "outputs": [],
   "source": [
    "# plot the fluxes of each condition on the plot\n",
    "\n",
    "x = np.arange(2)  # the label locations\n",
    "rev = [34, 36, 18, 15, 20, 10, 2, 21]\n",
    "# folder to save files to\n",
    "folder_name = '../../barcharts_13c/'\n",
    "cit = 0\n",
    "for indr, r in enumerate(reac_mappings['Reaction']): \n",
    "    if r in c13_vals2.keys():\n",
    "        if reac_mappings['Index'][indr] in rev:\n",
    "\n",
    "            y = [abs(c13_vals2[r]), abs(gsm_vals2[r])]\n",
    "        elif reac_mappings['Index'][indr] == 13:\n",
    "            y = [-(c13_vals2[r]), abs(gsm_vals2[r])]\n",
    "        else:\n",
    "            if abs((c13_vals2[r])) < 0.001 and abs((gsm_vals2[r])) < 0.001:\n",
    "                y = [0.0, 0.0]\n",
    "            elif abs((c13_vals2[r])) >= 0.001 and abs((gsm_vals2[r])) < 0.001:\n",
    "                y = [(c13_vals2[r]), 0.0]\n",
    "            elif abs((c13_vals2[r])) < 0.001 and abs((gsm_vals2[r])) >= 0.001:\n",
    "                y = [0.0, gsm_vals2[r]]\n",
    "            else:\n",
    "                y = [c13_vals2[r], gsm_vals2[r]]\n",
    "\n",
    "        ax = plt.figure()\n",
    "        plt.rc('axes', linewidth = 6.0)\n",
    "        barlist = plt.bar(x, y, align='center', alpha=0.8, ecolor='black', capsize=10,error_kw=dict(lw=7, capsize=10, capthick=7),  linewidth = 4)\n",
    "        barlist[0].set_color('darkred')\n",
    "        barlist[0].set_edgecolor('k')\n",
    "        barlist[0].set_linewidth(10)\n",
    "        barlist[1].set_color('darkblue')\n",
    "        barlist[1].set_edgecolor('k')\n",
    "        barlist[1].set_linewidth(10)\n",
    "\n",
    "\n",
    "\n",
    "        font = {'family' : 'bold',\n",
    "                'weight' : 'bold',\n",
    "                'size'   : 85}\n",
    "\n",
    "        plt.rc('font', **font)\n",
    "\n",
    "        plt.xticks([])\n",
    "        barlist[0].axes.spines['right'].set_visible(False)\n",
    "        barlist[0].axes.spines['top'].set_visible(False)\n",
    "        barlist[0].axes.spines['bottom'].set_visible(False)\n",
    "        barlist[0].axes.spines['left'].set_color('black')\n",
    "        barlist[0].axes.spines['left'].set_linewidth(10)\n",
    "\n",
    "\n",
    "        x1 = np.array([0, 1])\n",
    "        y = np.array([0, 0])\n",
    "        plt.plot(x1, y, 'k', linewidth = 10)\n",
    "        plt.xlabel(reac_mappings['Abbreviation'][indr], fontweight = 'bold')\n",
    "        plt.title(reac_mappings['Index'][indr])\n",
    "\n",
    "\n",
    "        plt.rc('font', **font)\n",
    "        plt.savefig(folder_name+str(reac_mappings['Index'][indr]) + '_' + str(reac_mappings['Abbreviation'][indr]) + '.png',  bbox_inches = 'tight')\n",
    "\n",
    "\n",
    "\n",
    "\n"
   ]
  },
  {
   "cell_type": "markdown",
   "id": "c7f2f230",
   "metadata": {},
   "source": [
    "#### Plot the FVA flux ranges (Figure 1c)"
   ]
  },
  {
   "cell_type": "code",
   "execution_count": 165,
   "id": "973dc760",
   "metadata": {},
   "outputs": [],
   "source": [
    "import numpy as np\n",
    "import matplotlib.pyplot as plt\n",
    "\n",
    "objects = c13_vals2.keys() \n",
    "y_pos = np.arange(len(objects))\n",
    "x = np.array(range(len(objects)))\n",
    "min_val = []\n",
    "max_val = []\n",
    "span = []\n",
    "for ind, i in enumerate(c13_vals2.keys()):\n",
    "    min_val.append(res90['minimum'][ind]/2.6)\n",
    "    max_val.append(res90['maximum'][ind]/2.6)\n",
    "    span.append(res90['maximum'][ind]/2.6 - res90['minimum'][ind]/2.6)\n",
    "    \n",
    "    \n",
    "    \n",
    "fig, ax = plt.subplots(figsize=(9,10))   \n",
    "#ax.barh(width=width, left=start, height=0.3, y=yval)\n",
    "#ax.barh(bottom=yval, width=width, left=start, height=0.3)\n",
    "ax.barh(width = span, left=min_val, height=0.8, y = y_pos, alpha=0.5)\n",
    "plt.scatter(c13_vals, y_pos, c = 'darkred')\n",
    "plt.scatter(gsm_vals, y_pos, c = 'darkblue')\n",
    "\n",
    "reac_Ids = []\n",
    "for i in C13reacs:\n",
    "    reac_Ids.append(reac_titles[i])\n",
    "plt.yticks(y_pos, reac_Ids)\n",
    "#plt.ylim(0)\n",
    "plt.ylabel('Reaction', fontsize = 16, weight = \"bold\")\n",
    "plt.xlabel('Flux (mmol/gDCW/h)', fontsize = 16, weight = \"bold\")\n",
    "plt.rc('axes', linewidth = 1.5)\n",
    "plt.xticks(fontsize=16, weight = 'normal')\n",
    "\n",
    "ax.yaxis.set_label_position(\"right\")\n",
    "ax.yaxis.tick_right()\n",
    "plt.yticks(fontsize=14, weight = 'normal')\n",
    "plt.tight_layout()\n",
    "plt.setp(ax.spines.values(), linewidth=1.5)\n",
    "plt.savefig('Figure1c.svg', format= 'svg', bbox_inches='tight')\n"
   ]
  },
  {
   "cell_type": "markdown",
   "id": "74a5598d",
   "metadata": {},
   "source": [
    "### Calculation of P/O ratio"
   ]
  },
  {
   "cell_type": "code",
   "execution_count": 39,
   "id": "737426fc",
   "metadata": {},
   "outputs": [
    {
     "name": "stdout",
     "output_type": "stream",
     "text": [
      "P/O ratio (ATP production / Oxygen atoms) : 1.6315080984351191\n"
     ]
    }
   ],
   "source": [
    "print('P/O ratio (ATP production / Oxygen atoms) :', sol_fru['R_ATPSynth']/abs(sol_fru['EX_OXYGEN_MOLECULE_e']*2.0))\n"
   ]
  },
  {
   "cell_type": "markdown",
   "id": "3b8dc97c",
   "metadata": {},
   "source": [
    "## Single gene deletion phenotypes - comparison to SBRC TraDIS gene essentiality study and Tn-Seq essentiality study"
   ]
  },
  {
   "cell_type": "markdown",
   "id": "21dae386",
   "metadata": {},
   "source": [
    "### Load the data"
   ]
  },
  {
   "cell_type": "code",
   "execution_count": 44,
   "id": "9fb4648f",
   "metadata": {},
   "outputs": [],
   "source": [
    "# load in the genes and in vivo phenotypes...\n",
    "IPKM_fmm = pd.read_excel('../SupplementaryFiles/RevisedFiles/GithubFiles_16022022/JupyterNotebooks/Data/TraDIS_results.xlsx', sheet_name = 'IPKM_FMM')\n",
    "IPKM_sob = pd.read_excel('../SupplementaryFiles/RevisedFiles/GithubFiles_16022022/JupyterNotebooks/Data/TraDIS_results.xlsx', sheet_name = 'IPKM_SOB')\n",
    "low_coverage = pd.read_excel('../SupplementaryFiles/RevisedFiles/GithubFiles_16022022/JupyterNotebooks/Data/TraDIS_results.xlsx', sheet_name = 'low_coverage')\n"
   ]
  },
  {
   "cell_type": "code",
   "execution_count": 45,
   "id": "e2dd84f5",
   "metadata": {},
   "outputs": [],
   "source": [
    "# take the logarithm + 1 of the IPKM values for both SOB and FMM media conditions\n",
    "log2_IPKM = {}\n",
    "for ind, gene in enumerate(IPKM_fmm['Gene ID']):\n",
    "    log2_IPKM[gene] = np.log2(IPKM_fmm['IPKM_curated'][ind] + 1)\n",
    "    \n",
    "log2_IPKM_sob = {}\n",
    "for ind, gene in enumerate(IPKM_sob['Gene ID']):\n",
    "    log2_IPKM_sob[gene] = np.log2(IPKM_sob['IPKM_curated'][ind] + 1)\n",
    "    \n",
    "   "
   ]
  },
  {
   "cell_type": "code",
   "execution_count": 46,
   "id": "540b5a3d",
   "metadata": {},
   "outputs": [
    {
     "data": {
      "text/plain": [
       "6637"
      ]
     },
     "execution_count": 46,
     "metadata": {},
     "output_type": "execute_result"
    }
   ],
   "source": [
    "len(log2_IPKM_sob)"
   ]
  },
  {
   "cell_type": "markdown",
   "id": "3854376a",
   "metadata": {},
   "source": [
    "### Get the TraDIS phenotypes"
   ]
  },
  {
   "cell_type": "code",
   "execution_count": 48,
   "id": "0a0ba646",
   "metadata": {},
   "outputs": [
    {
     "name": "stdout",
     "output_type": "stream",
     "text": [
      "TraDIS essential (FMM):  608\n",
      "TraDIS non-essential (FMM):  5762\n",
      "TraDIS undefined (FMM):  267\n",
      "total genes:  6637\n",
      "\n",
      "Total essential genes (SOB):  373\n",
      "Total non-essential genes (SOB):  5918\n",
      "Number of undefined (SOB):  346\n",
      "total genes:  6637\n"
     ]
    }
   ],
   "source": [
    "tradis_phenotypes_fmm = {}\n",
    "tradis_phenotypes_sob = {}\n",
    "\n",
    "min_threshold = 3.9\n",
    "max_threshold = 4.4\n",
    "\n",
    "# low coverage \n",
    "low_coverage_fmm = []\n",
    "low_coverage_sob = []\n",
    "for ind, i in enumerate(low_coverage['Gene']):\n",
    "    if low_coverage['Low coverage SOB'][ind] == 1:\n",
    "        low_coverage_sob.append(i)\n",
    "    if low_coverage['Low coverage FMM'][ind] == 1:\n",
    "        low_coverage_fmm.append(i) \n",
    "            \n",
    "        \n",
    "\n",
    "for gene, IPKM in log2_IPKM.items():\n",
    "    \n",
    "    # if the gene is lower than 3.3 in the FMM data and not in the low coverage set of genes, or if it is below 3.3 in the SOB data and not in the low coverage set\n",
    "    if (log2_IPKM[gene] < min_threshold and gene not in low_coverage_fmm) or (log2_IPKM_sob[gene] < min_threshold and gene not in low_coverage_sob):     \n",
    "        tradis_phenotypes_fmm[gene] = 2 \n",
    "        \n",
    "    # if the gene is greater than 4.4 in the FMM data and greater than 3.3 in the SOB data (n.b: if it is greater than 4.4 in the FMM but in undefined region for SOB then it is still classed as non-essential) or if it is > 4.4 in the FMM media and not > 4.4 in the rich but is in the low coverage genes\n",
    "    elif (log2_IPKM[gene] > max_threshold and log2_IPKM_sob[gene] > min_threshold) or (log2_IPKM[gene] > max_threshold and gene in low_coverage_sob):\n",
    "        tradis_phenotypes_fmm[gene] = 0 \n",
    "        \n",
    "    else:\n",
    "        tradis_phenotypes_fmm[gene] = 1\n",
    "        \n",
    "        \n",
    "for gene, IPKM in log2_IPKM_sob.items():\n",
    "    \n",
    "    # if the gene is lower than 3.3 in the SOB data and not in the low coverage set of genes\n",
    "    if (log2_IPKM_sob[gene] < min_threshold and gene not in low_coverage_sob):\n",
    "        tradis_phenotypes_sob[gene] = 2 \n",
    "        \n",
    "    # if the gene is greater than 4.4 in the SOB data \n",
    "    elif log2_IPKM_sob[gene] > max_threshold:\n",
    "        tradis_phenotypes_sob[gene] = 0 \n",
    "        \n",
    "    else:\n",
    "        tradis_phenotypes_sob[gene] = 1\n",
    "    \n",
    "\n",
    "    \n",
    "# print the tradis statistics\n",
    "tradis_essential = 0\n",
    "tradis_nonessential = 0\n",
    "undefined_tradis = 0\n",
    "for i, j in tradis_phenotypes_fmm.items():\n",
    "    if j == 2:\n",
    "        tradis_essential += 1\n",
    "    elif j == 1:\n",
    "        undefined_tradis += 1\n",
    "    elif j == 0:\n",
    "        tradis_nonessential += 1\n",
    "        \n",
    "        \n",
    "tradis_essential_sob = 0\n",
    "tradis_nonessential_sob = 0\n",
    "undefined_tradis_sob = 0\n",
    "for i, j in tradis_phenotypes_sob.items():\n",
    "    if j == 2:\n",
    "        tradis_essential_sob += 1\n",
    "    elif j == 1:\n",
    "        undefined_tradis_sob += 1\n",
    "    elif j == 0:\n",
    "        tradis_nonessential_sob += 1\n",
    "        \n",
    "print('TraDIS essential (FMM): ', tradis_essential)\n",
    "print('TraDIS non-essential (FMM): ', tradis_nonessential)\n",
    "print('TraDIS undefined (FMM): ', undefined_tradis)\n",
    "print('total genes: ', len(tradis_phenotypes_fmm))\n",
    "\n",
    "\n",
    "print('')\n",
    "print('Total essential genes (SOB): ', tradis_essential_sob)\n",
    "print('Total non-essential genes (SOB): ', tradis_nonessential_sob)\n",
    "print('Number of undefined (SOB): ', undefined_tradis_sob)    \n",
    "print('total genes: ', len(tradis_phenotypes_sob))"
   ]
  },
  {
   "cell_type": "markdown",
   "id": "6e6a78b8",
   "metadata": {},
   "source": [
    "### Get the Tn-Seq phenotypes"
   ]
  },
  {
   "cell_type": "markdown",
   "id": "1ed831cd",
   "metadata": {},
   "source": [
    "#### Load the Tn-Seq data"
   ]
  },
  {
   "cell_type": "code",
   "execution_count": 1748,
   "id": "86230e74",
   "metadata": {},
   "outputs": [],
   "source": [
    "### load the LB dataset"
   ]
  },
  {
   "cell_type": "code",
   "execution_count": 57,
   "id": "4edb3537",
   "metadata": {},
   "outputs": [],
   "source": [
    "tn_seq_lb = pd.read_excel('../SupplementaryFiles/RevisedFiles/GithubFiles_16022022/JupyterNotebooks/Data/Jahn2022_files/TnSeq_LBdata.xlsx') # LB data"
   ]
  },
  {
   "cell_type": "code",
   "execution_count": 2213,
   "id": "d6ce46b4",
   "metadata": {},
   "outputs": [],
   "source": [
    "### load the fructose essentiality dataset"
   ]
  },
  {
   "cell_type": "code",
   "execution_count": 58,
   "id": "ac3aa712",
   "metadata": {},
   "outputs": [
    {
     "name": "stderr",
     "output_type": "stream",
     "text": [
      "/opt/anaconda2/envs/pyTFA_2/lib/python3.7/site-packages/numpy/core/fromnumeric.py:3441: RuntimeWarning: Mean of empty slice.\n",
      "  out=out, **kwargs)\n",
      "/opt/anaconda2/envs/pyTFA_2/lib/python3.7/site-packages/numpy/core/_methods.py:189: RuntimeWarning: invalid value encountered in double_scalars\n",
      "  ret = ret.dtype.type(ret / rcount)\n"
     ]
    }
   ],
   "source": [
    "\n",
    "# tn-seq data comparisons -  downloaded from Michael Jahn's ShinyLab\n",
    "tn_seq = pd.read_csv('../SupplementaryFiles/RevisedFiles/GithubFiles_16022022/JupyterNotebooks/Data/Jahn2022_files/Cupriavidus_BarSeq_2021.csv') # specific to fructose data\n",
    "\n",
    "fructose_continuous = tn_seq[tn_seq.condition == 'fructose - continuous']\n",
    "fructose_continuous_T8 = fructose_continuous[fructose_continuous.timepoint == 8] # extract for time point 8 only\n",
    "\n",
    "genes = list(set(list(fructose_continuous_T8['locus_tag'])))\n",
    "\n",
    "# calculate the median value across replicates\n",
    "fructose_scores = {}\n",
    "for i in genes:\n",
    "    score = np.median(fructose_continuous_T8[fructose_continuous_T8.locus_tag == i].fitness_score)\n",
    "    fructose_scores[i] = score"
   ]
  },
  {
   "cell_type": "markdown",
   "id": "049b930a",
   "metadata": {},
   "source": [
    "### Get the Tn-Seq phenotypes for FMM using both datasets"
   ]
  },
  {
   "cell_type": "code",
   "execution_count": 59,
   "id": "c2eebd16",
   "metadata": {},
   "outputs": [],
   "source": [
    "tnseq_phenotypes = {}\n",
    "for ind, i in enumerate(tn_seq_lb['locus_tag']):\n",
    "    \n",
    "    # assign the essential genes\n",
    "    if tn_seq_lb['essentiality'][ind] == 2:\n",
    "        tnseq_phenotypes[i] = 2\n",
    "    else:\n",
    "        if i in fructose_scores.keys():\n",
    "            if str(fructose_scores[i]) != 'nan':\n",
    "                if fructose_scores[i] < -3:\n",
    "                    pheno1 = 2\n",
    "                else:\n",
    "                    pheno1 = 0\n",
    "            else:\n",
    "                pheno1 = 1\n",
    "        else:\n",
    "            pheno1 = 1\n",
    "                       \n",
    "        if pheno1 == 2:       \n",
    "            tnseq_phenotypes[i] = 2\n",
    "        elif tn_seq_lb['essentiality'][ind] == 0 or pheno1 == 0:\n",
    "            tnseq_phenotypes[i] = 0\n",
    "        else:\n",
    "            tnseq_phenotypes[i] = 1"
   ]
  },
  {
   "cell_type": "markdown",
   "id": "5c214d3c",
   "metadata": {},
   "source": [
    "### Number of essential / non-essential / undefined in Tn-Seq data"
   ]
  },
  {
   "cell_type": "code",
   "execution_count": 60,
   "id": "9dd46f10",
   "metadata": {},
   "outputs": [
    {
     "name": "stdout",
     "output_type": "stream",
     "text": [
      "Tn-Seq essential (FMM):  577\n",
      "Tn-Seq non-essential (FMM): 5752\n",
      "Tn-Seq undefined (FMM):  220\n",
      "Tn-Seq undefined (FMM):  6549\n"
     ]
    }
   ],
   "source": [
    "tnseq_essential = 0\n",
    "tnseq_nonessential = 0\n",
    "undefined_tnseq = 0\n",
    "for i, j in tnseq_phenotypes.items():\n",
    "    if j == 2:\n",
    "        tnseq_essential += 1\n",
    "    elif j == 1:\n",
    "        undefined_tnseq += 1\n",
    "    elif j == 0:\n",
    "        tnseq_nonessential += 1\n",
    "print('Tn-Seq essential (FMM): ', tnseq_essential)\n",
    "print('Tn-Seq non-essential (FMM):', tnseq_nonessential)\n",
    "print('Tn-Seq undefined (FMM): ', undefined_tnseq)\n",
    "print('Tn-Seq undefined (FMM): ', len(tnseq_phenotypes))"
   ]
  },
  {
   "cell_type": "code",
   "execution_count": 61,
   "id": "8db4ab04",
   "metadata": {},
   "outputs": [
    {
     "name": "stdout",
     "output_type": "stream",
     "text": [
      "Tn-Seq essential (LB):  513\n",
      "Tn-Seq non-essential (LB): 5776\n",
      "Tn-Seq undefined (LB):  260\n",
      "total number of genes:  6549\n"
     ]
    }
   ],
   "source": [
    "tnseq_essential_lb = 0\n",
    "tnseq_nonessential_lb = 0\n",
    "undefined_tnseq_lb = 0\n",
    "for ind, i in enumerate(tn_seq_lb['locus_tag']):\n",
    "    if tn_seq_lb['essentiality'][ind] == 2:\n",
    "        tnseq_essential_lb += 1\n",
    "    elif tn_seq_lb['essentiality'][ind] == 1:\n",
    "        undefined_tnseq_lb += 1\n",
    "    elif tn_seq_lb['essentiality'][ind] == 0:\n",
    "        tnseq_nonessential_lb += 1\n",
    "        \n",
    "print('Tn-Seq essential (LB): ', tnseq_essential_lb)\n",
    "print('Tn-Seq non-essential (LB):', tnseq_nonessential_lb)\n",
    "print('Tn-Seq undefined (LB): ', undefined_tnseq_lb)\n",
    "print('total number of genes: ', len(tn_seq_lb))"
   ]
  },
  {
   "cell_type": "markdown",
   "id": "22e24f1d",
   "metadata": {},
   "source": [
    "### Venn diagram showing the number of genes that have the same phenotype between the two approaches"
   ]
  },
  {
   "cell_type": "markdown",
   "id": "76699cdb",
   "metadata": {},
   "source": [
    "#### Essential - all genes"
   ]
  },
  {
   "cell_type": "code",
   "execution_count": 2529,
   "id": "7e6b2534",
   "metadata": {},
   "outputs": [
    {
     "name": "stdout",
     "output_type": "stream",
     "text": [
      "Undefined in TraDIS:  212\n",
      "Undefined in Tn-Seq:  211\n"
     ]
    },
    {
     "data": {
      "image/png": "[encoded data removed]",
      "text/plain": [
       "<Figure size 432x288 with 1 Axes>"
      ]
     },
     "metadata": {},
     "output_type": "display_data"
    }
   ],
   "source": [
    "# only include genes that are in both datasets\n",
    "\n",
    "essential_tn_seq = []\n",
    "nonessential_tn_seq = []\n",
    "undefined_tnseq = []\n",
    "for i, j in tnseq_phenotypes.items():\n",
    "    if i in tradis_phenotypes_fmm:\n",
    "        if j == 2:\n",
    "            essential_tn_seq.append(i)\n",
    "        elif j == 0:\n",
    "            nonessential_tn_seq.append(i)\n",
    "        else:\n",
    "            undefined_tnseq.append(i)\n",
    "        \n",
    "        \n",
    "essential_tradis2 = []\n",
    "nonessential_tradis2 = []\n",
    "undefined_tradis2 = []  \n",
    "for i, j in tradis_phenotypes_fmm.items():\n",
    "    if i in tnseq_phenotypes:\n",
    "        if j == 2:\n",
    "            essential_tradis2.append(i)\n",
    "        elif j == 0:\n",
    "            nonessential_tradis2.append(i)\n",
    "        else:\n",
    "            undefined_tradis2.append(i)\n",
    "\n",
    "tradis_tnseq_overlap = len(list(set(essential_tradis2) & set(essential_tn_seq)))      \n",
    "tradis_essential = len(essential_tradis2) - len(list(set(essential_tradis2) & set(essential_tn_seq)))  \n",
    "tn_seq_essential = len(essential_tn_seq) - len(list(set(essential_tradis2) & set(essential_tn_seq)))  \n",
    "#tradis_tnseq_overlap = len(list(set(essential_tradis2) & set(essential_tn_seq)))\n",
    "\n",
    "# Make the diagram\n",
    "v1 = venn2(subsets = (tradis_essential, tn_seq_essential, tradis_tnseq_overlap), set_labels = ('TraDIS', 'Tn-Seq'))\n",
    "#plt.savefig('overlapping_essential_genes.pdf')\n",
    "print('Undefined in TraDIS: ', len(undefined_tradis2))\n",
    "print('Undefined in Tn-Seq: ', len(undefined_tnseq))"
   ]
  },
  {
   "cell_type": "code",
   "execution_count": 2562,
   "id": "dfe8b36b",
   "metadata": {},
   "outputs": [],
   "source": [
    "# 209 genes that are essential in the Tn-Seq but not in the TraDIS data...\n",
    "# 25 are undefined in the tradis data\n",
    "# 146 are greater than 6.5 (95% percentile)\n",
    "# 195 are greater than 4.7 (80th percentile)\n"
   ]
  },
  {
   "cell_type": "markdown",
   "id": "b317fa8c",
   "metadata": {},
   "source": [
    "#### Non-essential ALL genes"
   ]
  },
  {
   "cell_type": "code",
   "execution_count": 2444,
   "id": "58db99f2",
   "metadata": {},
   "outputs": [
    {
     "data": {
      "image/png": "[encoded data removed]",
      "text/plain": [
       "<Figure size 432x288 with 1 Axes>"
      ]
     },
     "metadata": {},
     "output_type": "display_data"
    }
   ],
   "source": [
    "tradis_tnseq_overlap = len(list(set(nonessential_tradis) & set(nonessential_tn_seq)))\n",
    "\n",
    "\n",
    "tradis_nonessential = len(nonessential_tradis) - tradis_tnseq_overlap\n",
    "tn_seq_nonessential = len(nonessential_tn_seq) - tradis_tnseq_overlap\n",
    "\n",
    "# Make the diagram\n",
    "v2 = venn2(subsets = (tradis_nonessential, tn_seq_nonessential, tradis_tnseq_overlap), set_labels = ('TraDIS', 'Tn-Seq'))\n",
    "#plt.savefig('overlapping_essential_genes.pdf')\n",
    "\n",
    "\n"
   ]
  },
  {
   "cell_type": "markdown",
   "id": "c9e353d8",
   "metadata": {},
   "source": [
    "#### Chromosome 1"
   ]
  },
  {
   "cell_type": "code",
   "execution_count": 2480,
   "id": "225630fc",
   "metadata": {},
   "outputs": [
    {
     "name": "stdout",
     "output_type": "stream",
     "text": [
      "Undefined in TraDIS:  139\n",
      "Undefined in Tn-Seq:  134\n"
     ]
    },
    {
     "data": {
      "image/png": "[encoded data removed]",
      "text/plain": [
       "<Figure size 432x288 with 2 Axes>"
      ]
     },
     "metadata": {},
     "output_type": "display_data"
    }
   ],
   "source": [
    "# only include genes that are in both datasets\n",
    "\n",
    "essential_tn_seq = []\n",
    "nonessential_tn_seq = []\n",
    "undefined_tnseq = []\n",
    "for i, j in tnseq_phenotypes.items():\n",
    "    if str(i) != 'nan':\n",
    "        if 'H16_A' in i:\n",
    "            if i in tradis_phenotypes_fmm:\n",
    "                if j == 2:\n",
    "                    essential_tn_seq.append(i)\n",
    "                elif j == 0:\n",
    "                    nonessential_tn_seq.append(i)\n",
    "                else:\n",
    "                    undefined_tnseq.append(i)\n",
    "        \n",
    "        \n",
    "essential_tradis2 = []\n",
    "nonessential_tradis2 = []\n",
    "undefined_tradis2 = []  \n",
    "for i, j in tradis_phenotypes_fmm.items():\n",
    "    if str(i) != 'nan':\n",
    "        if 'H16_A' in i:\n",
    "            if i in tnseq_phenotypes:\n",
    "                if j == 2:\n",
    "                    essential_tradis2.append(i)\n",
    "                elif j == 0:\n",
    "                    nonessential_tradis2.append(i)\n",
    "                else:\n",
    "                    undefined_tradis2.append(i)\n",
    "\n",
    "tradis_tnseq_overlap = len(list(set(essential_tradis2) & set(essential_tn_seq)))        \n",
    "tradis_essential = len(essential_tradis2) - tradis_tnseq_overlap\n",
    "tn_seq_essential = len(essential_tn_seq) - tradis_tnseq_overlap\n",
    "\n",
    "# Make the diagram\n",
    "figure, axes = plt.subplots(1, 2)\n",
    "v1 = venn2(subsets = (tradis_essential, tn_seq_essential, tradis_tnseq_overlap), set_labels = ('TraDIS', 'Tn-Seq'), ax = axes[0])\n",
    "for text in v1.set_labels:\n",
    "    text.set_fontsize(10)\n",
    "for text in v1.subset_labels:\n",
    "    text.set_fontsize(10)\n",
    "axes[0].title.set_text('Essential')\n",
    "\n",
    "tradis_tnseq_overlap = len(list(set(nonessential_tradis2) & set(nonessential_tn_seq)))\n",
    "tradis_nonessential = len(nonessential_tradis2) - tradis_tnseq_overlap\n",
    "tn_seq_nonessential = len(nonessential_tn_seq) - tradis_tnseq_overlap\n",
    "\n",
    "v2 = venn2(subsets = (tradis_nonessential, tn_seq_nonessential, tradis_tnseq_overlap), set_labels = ('TraDIS', 'Tn-Seq'), ax = axes[1])\n",
    "for text in v2.set_labels:\n",
    "    text.set_fontsize(10)\n",
    "for text in v2.subset_labels:\n",
    "    text.set_fontsize(10)\n",
    "axes[1].title.set_text('Non-essential')\n",
    "figure.suptitle('Chromosome 1', fontsize=14)\n",
    "\n",
    "figure.tight_layout()\n",
    "figure.subplots_adjust(top=1.05)\n",
    "plt.savefig('Chr1_overlapping_genes.pdf')   \n",
    "\n",
    "print('Undefined in TraDIS: ', len(undefined_tradis2))\n",
    "print('Undefined in Tn-Seq: ', len(undefined_tnseq))"
   ]
  },
  {
   "cell_type": "markdown",
   "id": "62b639da",
   "metadata": {},
   "source": [
    "#### Chromosome 2 "
   ]
  },
  {
   "cell_type": "code",
   "execution_count": 2481,
   "id": "8b9b1032",
   "metadata": {},
   "outputs": [
    {
     "name": "stdout",
     "output_type": "stream",
     "text": [
      "Undefined in TraDIS:  65\n",
      "Undefined in Tn-Seq:  72\n"
     ]
    },
    {
     "data": {
      "image/png": "[encoded data removed]",
      "text/plain": [
       "<Figure size 432x288 with 2 Axes>"
      ]
     },
     "metadata": {},
     "output_type": "display_data"
    }
   ],
   "source": [
    "# only include genes that are in both datasets\n",
    "\n",
    "essential_tn_seq = []\n",
    "nonessential_tn_seq = []\n",
    "undefined_tnseq = []\n",
    "for i, j in tnseq_phenotypes.items():\n",
    "    if str(i) != 'nan':\n",
    "        if 'H16_B' in i:\n",
    "            if i in tradis_phenotypes_fmm:\n",
    "                if j == 2:\n",
    "                    essential_tn_seq.append(i)\n",
    "                elif j == 0:\n",
    "                    nonessential_tn_seq.append(i)\n",
    "                else:\n",
    "                    undefined_tnseq.append(i)\n",
    "        \n",
    "        \n",
    "essential_tradis2 = []\n",
    "nonessential_tradis2 = []\n",
    "undefined_tradis2 = []  \n",
    "for i, j in tradis_phenotypes_fmm.items():\n",
    "    if str(i) != 'nan':\n",
    "        if 'H16_B' in i:\n",
    "            if i in tnseq_phenotypes:\n",
    "                if j == 2:\n",
    "                    essential_tradis2.append(i)\n",
    "                elif j == 0:\n",
    "                    nonessential_tradis2.append(i)\n",
    "                else:\n",
    "                    undefined_tradis2.append(i)\n",
    "\n",
    "tradis_tnseq_overlap = len(list(set(essential_tradis2) & set(essential_tn_seq)))        \n",
    "tradis_essential = len(essential_tradis2) - tradis_tnseq_overlap\n",
    "tn_seq_essential = len(essential_tn_seq) - tradis_tnseq_overlap\n",
    "\n",
    "# Make the diagram\n",
    "figure, axes = plt.subplots(1, 2)\n",
    "v1 = venn2(subsets = (tradis_essential, tn_seq_essential, tradis_tnseq_overlap), set_labels = ('TraDIS', 'Tn-Seq'), ax = axes[0])\n",
    "for text in v1.set_labels:\n",
    "    text.set_fontsize(10)\n",
    "for text in v1.subset_labels:\n",
    "    text.set_fontsize(10)\n",
    "axes[0].title.set_text('Essential')\n",
    "\n",
    "tradis_tnseq_overlap = len(list(set(nonessential_tradis2) & set(nonessential_tn_seq)))\n",
    "tradis_nonessential = len(nonessential_tradis2) - tradis_tnseq_overlap\n",
    "tn_seq_nonessential = len(nonessential_tn_seq) - tradis_tnseq_overlap\n",
    "\n",
    "v2 = venn2(subsets = (tradis_nonessential, tn_seq_nonessential, tradis_tnseq_overlap), set_labels = ('TraDIS', 'Tn-Seq'), ax = axes[1])\n",
    "for text in v2.set_labels:\n",
    "    text.set_fontsize(10)\n",
    "for text in v2.subset_labels:\n",
    "    text.set_fontsize(10)\n",
    "axes[1].title.set_text('Non-essential')\n",
    "figure.suptitle('Chromosome 2', fontsize=14)\n",
    "\n",
    "figure.tight_layout()\n",
    "figure.subplots_adjust(top=1.05)\n",
    "plt.savefig('Chr2_overlapping_genes.pdf')   \n",
    "\n",
    "print('Undefined in TraDIS: ', len(undefined_tradis2))\n",
    "print('Undefined in Tn-Seq: ', len(undefined_tnseq))"
   ]
  },
  {
   "cell_type": "code",
   "execution_count": null,
   "id": "97ef7929",
   "metadata": {},
   "outputs": [],
   "source": []
  },
  {
   "cell_type": "markdown",
   "id": "c3cd132c",
   "metadata": {},
   "source": [
    "#### Megaplasmid "
   ]
  },
  {
   "cell_type": "code",
   "execution_count": 2482,
   "id": "a9fb2472",
   "metadata": {},
   "outputs": [
    {
     "name": "stdout",
     "output_type": "stream",
     "text": [
      "Undefined in TraDIS:  8\n",
      "Undefined in Tn-Seq:  5\n"
     ]
    },
    {
     "data": {
      "image/png": "[encoded data removed]",
      "text/plain": [
       "<Figure size 432x288 with 2 Axes>"
      ]
     },
     "metadata": {},
     "output_type": "display_data"
    }
   ],
   "source": [
    "# only include genes that are in both datasets\n",
    "\n",
    "essential_tn_seq = []\n",
    "nonessential_tn_seq = []\n",
    "undefined_tnseq = []\n",
    "for i, j in tnseq_phenotypes.items():\n",
    "    if str(i) != 'nan':\n",
    "        if 'PHG' in i:\n",
    "            if i in tradis_phenotypes_fmm:\n",
    "                if j == 2:\n",
    "                    essential_tn_seq.append(i)\n",
    "                elif j == 0:\n",
    "                    nonessential_tn_seq.append(i)\n",
    "                else:\n",
    "                    undefined_tnseq.append(i)\n",
    "        \n",
    "        \n",
    "essential_tradis2 = []\n",
    "nonessential_tradis2 = []\n",
    "undefined_tradis2 = []  \n",
    "for i, j in tradis_phenotypes_fmm.items():\n",
    "    if str(i) != 'nan':\n",
    "        if 'PHG' in i:\n",
    "            if i in tnseq_phenotypes:\n",
    "                if j == 2:\n",
    "                    essential_tradis2.append(i)\n",
    "                elif j == 0:\n",
    "                    nonessential_tradis2.append(i)\n",
    "                else:\n",
    "                    undefined_tradis2.append(i)\n",
    "\n",
    "tradis_tnseq_overlap = len(list(set(essential_tradis2) & set(essential_tn_seq)))       \n",
    "tradis_essential = len(essential_tradis2) - tradis_tnseq_overlap\n",
    "tn_seq_essential = len(essential_tn_seq) - tradis_tnseq_overlap\n",
    "\n",
    "# Make the diagram\n",
    "figure, axes = plt.subplots(1, 2)\n",
    "v1 = venn2(subsets = (tradis_essential, tn_seq_essential, tradis_tnseq_overlap), set_labels = ('TraDIS', 'Tn-Seq'), ax = axes[0])\n",
    "for text in v1.set_labels:\n",
    "    text.set_fontsize(10)\n",
    "for text in v1.subset_labels:\n",
    "    if text is not None:\n",
    "        text.set_fontsize(10)\n",
    "axes[0].title.set_text('Essential')\n",
    "\n",
    "tradis_tnseq_overlap = len(list(set(nonessential_tradis2) & set(nonessential_tn_seq)))\n",
    "tradis_nonessential = len(nonessential_tradis2) - tradis_tnseq_overlap\n",
    "tn_seq_nonessential = len(nonessential_tn_seq) - tradis_tnseq_overlap\n",
    "\n",
    "v2 = venn2(subsets = (tradis_nonessential, tn_seq_nonessential, tradis_tnseq_overlap), set_labels = ('TraDIS', 'Tn-Seq'), ax = axes[1])\n",
    "for text in v2.set_labels:\n",
    "    text.set_fontsize(10)\n",
    "for text in v2.subset_labels:\n",
    "    if text is not None:\n",
    "        text.set_fontsize(10)\n",
    "axes[1].title.set_text('Non-essential')\n",
    "figure.suptitle('Megaplasmid', fontsize=14)\n",
    "\n",
    "figure.tight_layout()\n",
    "figure.subplots_adjust(top=1.05)\n",
    "plt.savefig('PHG_overlapping_genes.pdf')   \n",
    "\n",
    "print('Undefined in TraDIS: ', len(undefined_tradis2))\n",
    "print('Undefined in Tn-Seq: ', len(undefined_tnseq))"
   ]
  },
  {
   "cell_type": "markdown",
   "id": "55a1aab9",
   "metadata": {},
   "source": [
    "### Possible reasons for the discrepancies"
   ]
  },
  {
   "cell_type": "markdown",
   "id": "7a92f502",
   "metadata": {},
   "source": [
    "* Lower number of insertions used in the Tn-Seq data may result in some genes not being hit\n",
    "* Differences in the experimental conditions may have resulted in some differences in phenotypes\n",
    "* Genes that are partially essential (i.e. contain both essential and non-essential domains) may not be classified correctly using either approach. Manual inspection of the insertions (and their positions in the gene), particularly for those that have an log2(IPKM+1) index that is close to the thresholds is recommended. "
   ]
  },
  {
   "cell_type": "markdown",
   "id": "6d5bea1d",
   "metadata": {},
   "source": [
    "## Simulate single gene deletions in the GSM"
   ]
  },
  {
   "cell_type": "code",
   "execution_count": 49,
   "id": "ce994f90",
   "metadata": {},
   "outputs": [],
   "source": [
    "def gene_essentiality_statistics(essential, non_essential, essentiality_phenotypes):\n",
    "    \n",
    "    TP = []\n",
    "    FP = []\n",
    "    undefined = []\n",
    "\n",
    "    for i in essential:\n",
    "        if i in essentiality_phenotypes:\n",
    "            pheno = essentiality_phenotypes[i]\n",
    "            if pheno == 2:\n",
    "                TP.append(i)\n",
    "            elif pheno == 0:\n",
    "                FP.append(i)\n",
    "            else:\n",
    "                undefined.append(i)\n",
    "        else:\n",
    "            undefined.append(i)\n",
    "\n",
    "\n",
    "    TN = []\n",
    "    FN = []\n",
    "    for i in non_essential:\n",
    "        if i in essentiality_phenotypes:\n",
    "            pheno = essentiality_phenotypes[i]\n",
    "            if pheno == 0:\n",
    "                TN.append(i)\n",
    "            elif pheno == 2:\n",
    "                FN.append(i)\n",
    "            else:\n",
    "                undefined.append(i)\n",
    "        else:\n",
    "            undefined.append(i)\n",
    "            \n",
    "            \n",
    "    return TP, FP, TN, FN, undefined\n",
    "\n",
    "\n",
    "\n",
    "\n",
    "\n"
   ]
  },
  {
   "cell_type": "code",
   "execution_count": 50,
   "id": "b3b42cdd",
   "metadata": {},
   "outputs": [
    {
     "name": "stderr",
     "output_type": "stream",
     "text": [
      "/opt/anaconda2/envs/pyTFA_2/lib/python3.7/site-packages/cobra/util/solver.py:554: UserWarning: Solver status is 'infeasible'.\n",
      "  warn(f\"Solver status is '{status}'.\", UserWarning)\n"
     ]
    }
   ],
   "source": [
    "# Add column to excel file with GSM result\n",
    "m.reactions.R_Biomass.bounds = (0.0, 1000.0)\n",
    "\n",
    "# minimal media\n",
    "essential = []\n",
    "non_essential = []\n",
    "growth_limiting = []\n",
    "oxygen = []\n",
    "sol_wt = pfba(m)\n",
    "growth_wt = sol_wt['R_Biomass']\n",
    "oxygen_wt = sol_wt['EX_OXYGEN_MOLECULE_e']\n",
    "for ind, i in enumerate(m.genes):\n",
    "    #print(ind, i.id)\n",
    "    with m:\n",
    "        m.genes.get_by_id(i.id).knock_out()\n",
    "        try:\n",
    "            sol_ko = m.optimize()\n",
    "            if sol_ko.status != 'infeasible':\n",
    "                if sol_ko['R_Biomass'] > 0.05:\n",
    "                    #print(sol_ko['R_Biomass'])\n",
    "                    non_essential.append(i.id)\n",
    "                    if sol_ko['R_Biomass'] < growth_wt*0.85:\n",
    "                        growth_limiting.append(i.id)\n",
    "                    if sol_ko['EX_OXYGEN_MOLECULE_e'] < oxygen_wt*1.01:\n",
    "                        oxygen.append(i.id)\n",
    "                        #print(i.id, sol_ko['EX_OXYGEN_MOLECULE_e'])\n",
    "                else:\n",
    "                    essential.append(i.id)\n",
    "            \n",
    "            else:\n",
    "                essential.append(i.id)\n",
    "\n",
    "        except:\n",
    "            essential.append(i.id)\n",
    "            \n",
    "            \n",
    "            \n",
    "           "
   ]
  },
  {
   "cell_type": "markdown",
   "id": "8bcd0f87",
   "metadata": {},
   "source": [
    "### Simulate reaction deletions to check if the reaction is essential"
   ]
  },
  {
   "cell_type": "code",
   "execution_count": 51,
   "id": "540c2958",
   "metadata": {},
   "outputs": [],
   "source": [
    "\n",
    "# minimal media\n",
    "essential_reacs = []\n",
    "non_essential_reacs = []\n",
    "growth_limiting_reacs = {}\n",
    "\n",
    "#m.reactions.EX_OXYGEN_MOLECULE_e.bounds = (-3.0, 1000.0)\n",
    "\n",
    "for i in m.reactions:\n",
    "    #print(ind, i.id)\n",
    "\n",
    "    with m:\n",
    "        m.reactions.get_by_id(i.id).bounds = (0.0, 0.0)\n",
    "        try:\n",
    "            sol_ko = m.optimize()\n",
    "            if sol_ko.status != 'infeasible':\n",
    "                if sol_ko['R_Biomass'] > 0.05:\n",
    "                    non_essential_reacs.append(i.id)\n",
    "                else:\n",
    "                    essential_reacs.append(i.id)\n",
    "            else:\n",
    "                essential_reacs.append(i.id)\n",
    "        except:\n",
    "            essential_reacs.append(i.id)\n",
    "\n",
    "\n"
   ]
  },
  {
   "cell_type": "code",
   "execution_count": 172,
   "id": "0db2a2f1",
   "metadata": {},
   "outputs": [],
   "source": [
    "# save essential reactions to be loaded for determining the lower cutoff in 'GSM_nitrogenlimitation.ipynb'\n",
    "with open('Cnec_essential_reactions.json', 'w') as fn:\n",
    "    json.dump(essential_reacs, fn)"
   ]
  },
  {
   "cell_type": "code",
   "execution_count": 52,
   "id": "7458606b",
   "metadata": {},
   "outputs": [
    {
     "name": "stdout",
     "output_type": "stream",
     "text": [
      "True positives:  127\n",
      "False positives:  29\n",
      "True negatives:  1080\n",
      "False negatives:  79\n",
      "Undefined genes:  47\n",
      "Overall accuracy iC1361:  0.9178707224334601\n",
      "Precision iCN1361:  0.8141025641025641\n",
      "Recall iCN136:  0.616504854368932\n",
      "\n"
     ]
    }
   ],
   "source": [
    "TP_tradis, FP_tradis, TN_tradis, FN_tradis, undefined_tradis = gene_essentiality_statistics(essential, non_essential, tradis_phenotypes_fmm)\n",
    "\n",
    "print('True positives: ', len(TP_tradis))\n",
    "print('False positives: ', len(FP_tradis))\n",
    "print('True negatives: ', len(TN_tradis))\n",
    "print('False negatives: ', len(FN_tradis))\n",
    "print('Undefined genes: ', len(undefined_tradis))\n",
    "\n",
    "print('Overall accuracy iC1361: ', (len(TP_tradis) + len(TN_tradis))/(len(TP_tradis) + len(TN_tradis) + len(FN_tradis) + len(FP_tradis)))\n",
    "print('Precision iCN1361: ', len(TP_tradis)/(len(TP_tradis)+ len(FP_tradis)))\n",
    "print('Recall iCN136: ', len(TP_tradis)/(len(TP_tradis) + len(FN_tradis)))\n",
    "print('')"
   ]
  },
  {
   "cell_type": "code",
   "execution_count": 53,
   "id": "6361d0f5",
   "metadata": {},
   "outputs": [
    {
     "name": "stdout",
     "output_type": "stream",
     "text": [
      "98\n",
      "49\n",
      "30\n"
     ]
    }
   ],
   "source": [
    "# how many of the 141 are from essential reactions? so isoenzyme issue\n",
    "FN_reac_ess = []\n",
    "other = []\n",
    "count = 0\n",
    "for gene in FN_tradis:\n",
    "    check = 0\n",
    "    for r in m.genes.get_by_id(gene).reactions:\n",
    "        if r.id in essential_reacs:\n",
    "            FN_reac_ess.append(gene)\n",
    "            count += 1\n",
    "            check = 1\n",
    "    if check == 0:\n",
    "        other.append(gene)\n",
    "            \n",
    "print(count)\n",
    "print(len(set(other)))\n",
    "print(len(set(FN_reac_ess)))\n",
    "\n"
   ]
  },
  {
   "cell_type": "code",
   "execution_count": 55,
   "id": "5a47626c",
   "metadata": {},
   "outputs": [
    {
     "name": "stdout",
     "output_type": "stream",
     "text": [
      "number of FN genes that are associated to an essential reactions:  30\n"
     ]
    }
   ],
   "source": [
    "print('number of FN genes that are associated to an essential reactions: ',  len(set(FN_reac_ess)))\n",
    "\n"
   ]
  },
  {
   "cell_type": "markdown",
   "id": "827ad8e6",
   "metadata": {},
   "source": [
    "### Save results to excel"
   ]
  },
  {
   "cell_type": "code",
   "execution_count": 62,
   "id": "755276e8",
   "metadata": {},
   "outputs": [],
   "source": [
    "# to excel file\n",
    "genes = []\n",
    "for i in m.genes:\n",
    "    if i.id != 'Spontaneous':\n",
    "        genes.append(i.id)\n",
    "        \n",
    "df = pd.DataFrame(index = genes)\n",
    "\n",
    "GSM_essentiality = []\n",
    "log2_fmm = []\n",
    "log2_sob = []\n",
    "tradis_essentiality = []\n",
    "low_cov_fmm = []\n",
    "low_cov_sob = []\n",
    "tnseq_essentiality = []\n",
    "\n",
    "for i in genes:\n",
    "    if i in essential:\n",
    "        GSM_essentiality.append(0)\n",
    "    elif i in non_essential:\n",
    "        GSM_essentiality.append(1)\n",
    "    \n",
    "    if i in log2_IPKM:\n",
    "        log2_fmm.append(log2_IPKM[i])\n",
    "        log2_sob.append(log2_IPKM_sob[i])\n",
    "    else:\n",
    "        log2_fmm.append('')\n",
    "        log2_sob.append('')\n",
    "\n",
    "        \n",
    "    if i in low_coverage_fmm:\n",
    "        low_cov_fmm.append(1)\n",
    "    else:\n",
    "        low_cov_fmm.append(0)\n",
    "        \n",
    "    if i in low_coverage_sob:\n",
    "        low_cov_sob.append(1)\n",
    "    else:\n",
    "        low_cov_sob.append(0)\n",
    "        \n",
    "    if i in tnseq_phenotypes:\n",
    "        if tnseq_phenotypes[i] == 2:\n",
    "            tnseq_essentiality.append(0)\n",
    "        elif tnseq_phenotypes[i] == 0:\n",
    "            tnseq_essentiality.append(1)\n",
    "        else:\n",
    "            tnseq_essentiality.append('')\n",
    "    else:\n",
    "        tnseq_essentiality.append('')\n",
    "        \n",
    "        \n",
    "    if i in tradis_phenotypes_fmm:\n",
    "        if tradis_phenotypes_fmm[i] == 2:\n",
    "            tradis_essentiality.append(0)\n",
    "        elif tradis_phenotypes_fmm[i] == 0:\n",
    "            tradis_essentiality.append(1)\n",
    "        else:\n",
    "            tradis_essentiality.append('')\n",
    "    else:\n",
    "        tradis_essentiality.append('')\n",
    "        \n",
    "df.insert(0, column= 'GSM prediction (0 - essential, 1 - non-essential)', value = GSM_essentiality)\n",
    "df.insert(1, column= 'log2 (IPKM_FMM + 1)', value = log2_fmm)\n",
    "df.insert(2, column = 'log2 (IPKM_SOB + 1)', value = log2_sob)\n",
    "df.insert(3, column = 'Essential in TraDIS (log2(IPKM+1) < 3.9)', value = tradis_essentiality)\n",
    "df.insert(4, column = 'Low coverage in TraDIS result (FMM)?', value = low_cov_fmm)\n",
    "df.insert(5, column = 'Low coverage in TraDIS result (SOB)?', value = low_cov_sob)\n",
    "\n",
    "classification_group = []\n",
    "\n",
    "for ind, i in enumerate(df['GSM prediction (0 - essential, 1 - non-essential)']):\n",
    "    if i == 0 and df['Essential in TraDIS (log2(IPKM+1) < 3.9)'][ind] == 0:\n",
    "        classification_group.append('TP')\n",
    "    elif i == 0 and df['Essential in TraDIS (log2(IPKM+1) < 3.9)'][ind] == 1:\n",
    "        classification_group.append('FP')\n",
    "    elif i == 1 and df['Essential in TraDIS (log2(IPKM+1) < 3.9)'][ind] == 0:\n",
    "        classification_group.append('FN')\n",
    "    elif i == 1 and df['Essential in TraDIS (log2(IPKM+1) < 3.9)'][ind] == 1:\n",
    "        classification_group.append('TN')\n",
    "    else:\n",
    "        classification_group.append('')\n",
    "\n",
    "        \n",
    "        \n",
    "    \n",
    "        \n",
    "df.insert(6, column = 'Classification', value = classification_group)\n",
    "df.insert(7, column = 'Essential in Tn-Seq?', value = tnseq_essentiality)\n",
    "\n",
    "    \n",
    "        "
   ]
  },
  {
   "cell_type": "markdown",
   "id": "338a9b9e",
   "metadata": {},
   "source": [
    "### Get Biocyc Pathways of the reactions in the FP and FN"
   ]
  },
  {
   "cell_type": "code",
   "execution_count": 63,
   "id": "a0953d7c",
   "metadata": {},
   "outputs": [],
   "source": [
    "reac_info = pd.read_excel('../SupplementaryFiles/SupplementaryFile1_GSMinfo.xlsx', sheet_name='Table S1')"
   ]
  },
  {
   "cell_type": "code",
   "execution_count": 64,
   "id": "dff86514",
   "metadata": {},
   "outputs": [],
   "source": [
    "biocyc_pathways = {}\n",
    "for ind, i in enumerate(reac_info['Unnamed: 0']):\n",
    "    biocyc_pathways[i] = reac_info['BioCyc pathways'][ind]"
   ]
  },
  {
   "cell_type": "code",
   "execution_count": 79,
   "id": "299f6938",
   "metadata": {},
   "outputs": [],
   "source": [
    "FN_gene_pathways = {}\n",
    "for i in FN_tradis:\n",
    "    pathways = []\n",
    "    for r in m.genes.get_by_id(i).reactions:\n",
    "        if str(biocyc_pathways[r.id]) != 'nan':\n",
    "            paths = biocyc_pathways[r.id].split(' // ')\n",
    "            for p in paths:\n",
    "                pathways.append(p)\n",
    "    FN_gene_pathways[i] = list(set(pathways))\n",
    "    \n",
    "    \n",
    "\n",
    "        \n",
    "FP_gene_pathways = {}\n",
    "for i in FP_tradis:\n",
    "    pathways = []\n",
    "    for r in m.genes.get_by_id(i).reactions:\n",
    "        if str(biocyc_pathways[r.id]) != 'nan':\n",
    "            paths = biocyc_pathways[r.id].split(' // ')\n",
    "            for p in paths:\n",
    "                pathways.append(p)\n",
    "    FP_gene_pathways[i] = list(set(pathways))"
   ]
  },
  {
   "cell_type": "markdown",
   "id": "9166843b",
   "metadata": {},
   "source": [
    "### Gene KO results in model with reduced growth rate by > 15% of wild type"
   ]
  },
  {
   "cell_type": "code",
   "execution_count": 80,
   "id": "a5962ea5",
   "metadata": {},
   "outputs": [
    {
     "name": "stdout",
     "output_type": "stream",
     "text": [
      "H16_A1053 1.1785553065857524 2\n",
      "H16_A1060 2.2602063580105263 0\n",
      "H16_A1052 3.8971435971549573 2\n",
      "H16_A1055 1.8184824794950725 2\n",
      "H16_A1050 3.2993618976515586 2\n",
      "H16_A1063 2.8713902714594597 2\n",
      "H16_A1051 1.1785553065857524 2\n",
      "H16_A1058 1.1785553065857524 2\n",
      "H16_A1057 1.1785553065857524 2\n",
      "H16_A2631 0.0 2\n",
      "H16_A2630 3.101196221324343 2\n",
      "H16_A2632 0.0 2\n",
      "H16_A2629 4.2241715065608085 2\n"
     ]
    }
   ],
   "source": [
    "for i in FN_tradis:\n",
    "    if i in growth_limiting:\n",
    "        print(i, log2_IPKM[i], tnseq_phenotypes[i])"
   ]
  },
  {
   "cell_type": "markdown",
   "id": "4f797d5c",
   "metadata": {},
   "source": [
    "### Gene KO results in model requiring increased oxygen uptake"
   ]
  },
  {
   "cell_type": "code",
   "execution_count": 81,
   "id": "a9d8a652",
   "metadata": {},
   "outputs": [
    {
     "name": "stdout",
     "output_type": "stream",
     "text": [
      "H16_A2325 3.101196221324343 2\n",
      "H16_A2324 1.8184824794950725 2\n",
      "H16_A1188 1.1785553065857524 2\n"
     ]
    }
   ],
   "source": [
    "for i in oxygen:\n",
    "    if i not in growth_limiting and i in FN_tradis:\n",
    "        print(i, log2_IPKM[i], tnseq_phenotypes[i])\n",
    "        \n",
    "        "
   ]
  },
  {
   "cell_type": "markdown",
   "id": "7f429d46",
   "metadata": {},
   "source": [
    "### Check whether isoenzymes are on in expression data"
   ]
  },
  {
   "cell_type": "markdown",
   "id": "a489a8c8",
   "metadata": {},
   "source": [
    "#### Function for calculating reaction expression"
   ]
  },
  {
   "cell_type": "code",
   "execution_count": 69,
   "id": "7effb430",
   "metadata": {},
   "outputs": [],
   "source": [
    "### reactions to block\n",
    "\n",
    "def map_exp_to_reacs(m, gene_express, condition = 'f16', unconstrained_reacs = []):\n",
    "    \n",
    "    reac_expression = {}\n",
    "    reacs_low_expression = []\n",
    "    for r in m.reactions:\n",
    "        if r.id not in unconstrained_reacs:\n",
    "\n",
    "            # get a list of 'or' genes that includes 'and' genes in internal list\n",
    "            genes = r.gene_reaction_rule.split('or')\n",
    "            genes_or = []\n",
    "            for g in genes:\n",
    "                gene = g.replace(' ', '').replace('(', '').replace(')', '')\n",
    "                genes_or.append(gene.split('and'))\n",
    "\n",
    "\n",
    "            # loop through genes - get the sum of expression of the 'or' genes\n",
    "            exp_max = 0.0\n",
    "            for g in genes_or:\n",
    "\n",
    "                # get minimum\n",
    "                min_gene_and = 0.0\n",
    "                if g[0] in list(gene_express['gene']):\n",
    "                    for ind, gene_tag in enumerate(gene_express['gene']):\n",
    "                        if gene_tag == g[0]:\n",
    "                            min_gene_and = gene_express[condition][ind] # if not in the list then leave as preset zero\n",
    "\n",
    "\n",
    "                # if more than one gene in list ('and' relationship)  \n",
    "                if len(g) > 1:\n",
    "                    for gi in g[1:]: # loop through rest of genes in 'and' list and check if in the proteomics data\n",
    "                        if gi in list(gene_express['gene']):\n",
    "                            for ind, gene_tag in enumerate(gene_express['gene']):\n",
    "                                if gene_tag == gi:\n",
    "                                    if gene_express[condition][ind] < min_gene_and: # if less than value already set then re-value\n",
    "                                        min_gene_and = gene_express[condition][ind]\n",
    "\n",
    "                exp_max += min_gene_and # add to the 'or' expression \n",
    "                \n",
    "                # store expression for each reaction\n",
    "                reac_expression[r.id] = exp_max\n",
    "        else:\n",
    "            reac_expression[r.id] = -1\n",
    "                \n",
    "\n",
    "                \n",
    "                \n",
    "    \n",
    "    return reac_expression\n",
    "                \n",
    "\n",
    "\n",
    "        \n",
    "                    \n",
    "        \n",
    "    \n",
    "    \n",
    "\n",
    "    "
   ]
  },
  {
   "cell_type": "code",
   "execution_count": 70,
   "id": "2dfb7669",
   "metadata": {},
   "outputs": [],
   "source": [
    "gene_express = pd.read_excel('Data/gene_exp_fructose.xlsx')\n",
    "# exclude transport and spontaneous reactions\n",
    "unconstrained_reacs = ['R_ATPM', 'R_Biomass']\n",
    "for r in m.reactions:\n",
    "    if 'EX_' in r.id:\n",
    "        unconstrained_reacs.append(r.id)\n",
    "    if r.gene_reaction_rule == 'Spontaneous':\n",
    "        unconstrained_reacs.append(r.id)\n",
    "    if r.gene_reaction_rule == '':\n",
    "        unconstrained_reacs.append(r.id)\n",
    "        \n",
    "RPKM_f16 = map_exp_to_reacs(m, gene_express, condition = 'f16', unconstrained_reacs = unconstrained_reacs)\n",
    "RPKM_f26 = map_exp_to_reacs(m, gene_express, condition = 'f26', unconstrained_reacs = unconstrained_reacs)\n",
    "\n",
    "\n",
    "\n",
    "\n",
    "\n",
    "\n"
   ]
  },
  {
   "cell_type": "code",
   "execution_count": 82,
   "id": "547eb07d",
   "metadata": {},
   "outputs": [
    {
     "data": {
      "text/plain": [
       "16"
      ]
     },
     "execution_count": 82,
     "metadata": {},
     "output_type": "execute_result"
    }
   ],
   "source": [
    "FN_isoenzymes_exp_ratios = {}\n",
    "count = 0\n",
    "# Turn off the genes that are not expressed in the isoenzymes\n",
    "genes_isoenzymes = list(set(FN_reac_ess)) # all FN genes associated to essential reactions\n",
    "ess_genes = []\n",
    "ess_genes_dic = {}\n",
    "for i in genes_isoenzymes:\n",
    "    for ind, gene in enumerate(gene_express['gene']):\n",
    "        if i == gene:\n",
    "            ess_gene_exp = gene_express['f16'][ind]\n",
    "\n",
    "            \n",
    "    \n",
    "    # get the 'or' relationships\n",
    "    isoenzymes_expressions = {}\n",
    "    for r in m.genes.get_by_id(i).reactions:\n",
    "        if r.id in essential_reacs: # find the essential reac its associated to\n",
    "            if 'and' not in r.gene_reaction_rule:\n",
    "                isoenzyme_express_reac = []\n",
    "                isoenzyme_exp_dic = {}\n",
    "                for g in r.genes:\n",
    "                    if g.id != i:\n",
    "                        match = 0 # check if the other genes associtaed to reaction are in the expression data (if not assign very small expression value)\n",
    "                        for ind, gene in enumerate(gene_express['gene']):\n",
    "                            if g.id == gene:\n",
    "                                isoenzyme_express_reac.append(gene_express['f16'][ind]/ess_gene_exp) # divide the expression of other gene by the expression of FN gene under consideration\n",
    "                                isoenzyme_exp_dic[g.id] = gene_express['f16'][ind]\n",
    "                                match = 1\n",
    "                        if match == 0:\n",
    "                            isoenzyme_exp_dic[g.id] = 0.000000001\n",
    "                            isoenzyme_express_reac.append(0.000000001)\n",
    "                                \n",
    "                                \n",
    "                if all(x <= 0.2 for x in isoenzyme_express_reac): # if all the genes\n",
    "                    FN_isoenzymes_exp_ratios[i] = isoenzyme_exp_dic\n",
    "                    ess_genes.append(i)\n",
    "                    ess_genes_dic[i] = ess_gene_exp\n",
    "                    \n",
    "            else:\n",
    "                isoenzyme_express_reac = []\n",
    "                isoenzyme_exp_dic = {}\n",
    "                or_genes = r.gene_reaction_rule.split(' or ')\n",
    "                #print(or_genes)\n",
    "                for ors in or_genes:\n",
    "                    if i in ors:\n",
    "                        genes_and = ors.split(' and ')\n",
    "\n",
    "                        exp = []\n",
    "                        for gi in genes_and:\n",
    "                            gi = gi.replace('( ', '')\n",
    "                            gi = gi.replace(' )', '')\n",
    "                            gi = gi.replace('(', '')\n",
    "                            gi = gi.replace(')', '')\n",
    "                            match = 0\n",
    "                            for ind, gene in enumerate(gene_express['gene']):\n",
    "                                if gi == gene:\n",
    "                                    exp.append(gene_express['f16'][ind])\n",
    "                                    isoenzyme_exp_dic[gi] = gene_express['f16'][ind]\n",
    "\n",
    "                                    match = 1\n",
    "                            if match == 0:\n",
    "                                exp.append(0.000000001)\n",
    "                                isoenzyme_exp_dic[g.id] = 0.000000001\n",
    "\n",
    "                        i_min_exp = np.min(exp)\n",
    "                        #print(i_min_exp)\n",
    "\n",
    "\n",
    "                for ors in or_genes: \n",
    "\n",
    "                    if i not in ors:\n",
    "                        genes_and = ors.split(' and ')\n",
    "                            #print(genes_and)\n",
    "                        exp = []\n",
    "                        for gi in genes_and:\n",
    "                            gi = gi.replace('( ', '')\n",
    "                            gi = gi.replace(' )', '')\n",
    "                            gi = gi.replace('(', '')\n",
    "                            gi = gi.replace(')', '')\n",
    "                            match = 0\n",
    "                            for ind, gene in enumerate(gene_express['gene']):\n",
    "                                if gi == gene:\n",
    "                                    exp.append(gene_express['f16'][ind])\n",
    "                                    isoenzyme_exp_dic[gi] = gene_express['f16'][ind]\n",
    "                                    match = 1\n",
    "                            if match == 0:\n",
    "                                exp.append(0.000000001)\n",
    "                                isoenzyme_exp_dic[g.id] = 0.000000001\n",
    "\n",
    "\n",
    "                        isoenzyme_express_reac.append(np.min(exp)/i_min_exp)\n",
    "\n",
    "                        min_exp = np.min(exp)\n",
    "                        #print(isoenzyme_express_reac)\n",
    "\n",
    "\n",
    "\n",
    "\n",
    "                if all(x <= 0.2 for x in isoenzyme_express_reac):\n",
    "                    ess_genes.append(i)\n",
    "                    ess_genes_dic[i] = ess_gene_exp\n",
    "                    FN_isoenzymes_exp_ratios[i] = isoenzyme_exp_dic\n",
    "        \n",
    "                        \n",
    "\n",
    "   \n",
    "                        \n",
    "len(set(ess_genes))       "
   ]
  },
  {
   "cell_type": "markdown",
   "id": "a79f18e0",
   "metadata": {},
   "source": [
    "### Calculate the updated accuracy measures with the isoenzymes blocked in the model if their expression is significantly less than the FN gene"
   ]
  },
  {
   "cell_type": "code",
   "execution_count": 83,
   "id": "c3315b45",
   "metadata": {},
   "outputs": [],
   "source": [
    "tp_updated = TP_tradis + list(set(ess_genes))\n",
    "fn_updated = []\n",
    "for i in FN_tradis:\n",
    "    if i not in ess_genes:\n",
    "        fn_updated.append(i)\n",
    "fp = FP_tradis\n",
    "tn = TN_tradis"
   ]
  },
  {
   "cell_type": "code",
   "execution_count": 84,
   "id": "45a2ff05",
   "metadata": {},
   "outputs": [
    {
     "name": "stdout",
     "output_type": "stream",
     "text": [
      "Overall accuracy:  0.9300380228136882\n",
      "Precision:  0.8313953488372093\n",
      "Recall:  0.6941747572815534\n"
     ]
    }
   ],
   "source": [
    "print('Overall accuracy: ', (len(tp_updated) + len(tn))/(len(tp_updated) + len(tn) + len(fn_updated) + len(fp)))\n",
    "print('Precision: ', len(tp_updated)/(len(tp_updated)+ len(fp)))\n",
    "print('Recall: ', len(tp_updated)/(len(tp_updated) + len(fn_updated)))"
   ]
  },
  {
   "cell_type": "markdown",
   "id": "22c19cb5",
   "metadata": {},
   "source": [
    "### Save FP information in the Excel file"
   ]
  },
  {
   "cell_type": "code",
   "execution_count": 85,
   "id": "3429e8c3",
   "metadata": {},
   "outputs": [],
   "source": [
    "df_FP_genes = pd.DataFrame(index = list(FP_gene_pathways.keys()))\n",
    "pathways = []\n",
    "tnseq_essentiality_FP = []\n",
    "for i, j in FP_gene_pathways.items():\n",
    "    pathways.append(str(j))\n",
    "    if i in tnseq_phenotypes:\n",
    "        if tnseq_phenotypes[i] == 2:\n",
    "            tnseq_essentiality_FP.append('Agreement with GSM predictions')\n",
    "        elif tnseq_phenotypes[i] == 0:\n",
    "            tnseq_essentiality_FP.append('Agreement with TraDIS predictions')\n",
    "        else:\n",
    "            tnseq_essentiality_FP.append('')\n",
    "    else:\n",
    "        tnseq_essentiality_FP.append('')\n",
    "            \n",
    "df_FP_genes.insert(0, column = 'Metabolic pathways', value = pathways)\n",
    "df_FP_genes.insert(1, column = 'Tn-Seq prediction', value = tnseq_essentiality_FP)\n",
    "\n",
    "\n",
    "\n",
    "\n",
    "\n",
    "df_FN_genes = pd.DataFrame(index = list(FN_gene_pathways.keys()))\n",
    "pathways = []\n",
    "reason = []\n",
    "tnseq_essentiality_FN = []\n",
    "for i, j in FN_gene_pathways.items():\n",
    "    pathways.append(str(j))\n",
    "    \n",
    "    if i in growth_limiting:\n",
    "        reason.append('Reduced growth rate of mutant by > 15% than wild type')        \n",
    "    elif i in oxygen:\n",
    "        reason.append('Increased oxygen requirement in mutant')        \n",
    "    elif i in FN_reac_ess:\n",
    "        if i in ess_genes:\n",
    "            reason.append('Associated to essential reaction - highest expressed isoenzyme')\n",
    "        else:\n",
    "            reason.append('Associated to essential reaction')\n",
    "    else:\n",
    "        reason.append('')\n",
    "        \n",
    "        \n",
    "    if i in tnseq_phenotypes:\n",
    "        if tnseq_phenotypes[i] == 2:\n",
    "            tnseq_essentiality_FN.append('Agreement with TraDIS predictions')\n",
    "        elif tnseq_phenotypes[i] == 0:\n",
    "            tnseq_essentiality_FN.append('Agreement with GSM predictions')\n",
    "        else:\n",
    "            tnseq_essentiality_FN.append('')\n",
    "    else:\n",
    "        tnseq_essentiality_FN.append('')\n",
    "        \n",
    "    \n",
    "        \n",
    "        \n",
    "        \n",
    "df_FN_genes.insert(0, column = 'Metabolic pathways', value = pathways)\n",
    "df_FN_genes.insert(1, column = 'Potential reason', value = reason)\n",
    "df_FN_genes.insert(2, column = 'Tn-seq prediction', value = tnseq_essentiality_FN)\n",
    "\n",
    "\n",
    "\n",
    "\n",
    "\n"
   ]
  },
  {
   "cell_type": "markdown",
   "id": "01e2eb01",
   "metadata": {},
   "source": [
    "#### write all dataframes to excel"
   ]
  },
  {
   "cell_type": "code",
   "execution_count": 88,
   "id": "308cc4f0",
   "metadata": {},
   "outputs": [],
   "source": [
    "# Create a Pandas Excel writer using XlsxWriter as the engine.\n",
    "writer = pd.ExcelWriter('SupplementaryFile4_GeneEssentiality_new.xlsx', engine='xlsxwriter')\n",
    "\n",
    "# Write each dataframe to a different worksheet.\n",
    "df.to_excel(writer, sheet_name='GSM_essentiality_assessment')\n",
    "df_FP_genes.to_excel(writer, sheet_name='False positives')\n",
    "df_FN_genes.to_excel(writer, sheet_name='False negatives')\n",
    "\n",
    "\n",
    "# Close the Pandas Excel writer and output the Excel file.\n",
    "writer.save()"
   ]
  },
  {
   "cell_type": "markdown",
   "id": "79bc6139",
   "metadata": {},
   "source": [
    "### Compare the false positives and false negatives to the Tn-Seq data"
   ]
  },
  {
   "cell_type": "code",
   "execution_count": 42,
   "id": "8aac4745",
   "metadata": {},
   "outputs": [
    {
     "name": "stdout",
     "output_type": "stream",
     "text": [
      "True positives:  119\n",
      "False positives:  35\n",
      "True negatives:  1058\n",
      "False negatives:  113\n",
      "Undefined genes:  37\n",
      "Overall accuracy iC1361:  0.8883018867924528\n",
      "Precision iCN1361:  0.7727272727272727\n",
      "Recall iCN136:  0.5129310344827587\n",
      "\n"
     ]
    }
   ],
   "source": [
    "TP_tnseq, FP_tnseq, TN_tnseq, FN_tnseq, undefined = gene_essentiality_statistics(essential, non_essential, tnseq_phenotypes)\n",
    "\n",
    "print('True positives: ', len(TP_tnseq))\n",
    "print('False positives: ', len(FP_tnseq))\n",
    "print('True negatives: ', len(TN_tnseq))\n",
    "print('False negatives: ', len(FN_tnseq))\n",
    "print('Undefined genes: ', len(undefined))\n",
    "\n",
    "print('Overall accuracy iC1361: ', (len(TP_tnseq) + len(TN_tnseq))/(len(TP_tnseq) + len(TN_tnseq) + len(FN_tnseq) + len(FP_tnseq)))\n",
    "print('Precision iCN1361: ', len(TP_tnseq)/(len(TP_tnseq)+ len(FP_tnseq)))\n",
    "print('Recall iCN136: ', len(TP_tnseq)/(len(TP_tnseq) + len(FN_tnseq)))\n",
    "print('')"
   ]
  }
 ],
 "metadata": {
  "kernelspec": {
   "display_name": "Python 3 (ipykernel)",
   "language": "python",
   "name": "python3"
  },
  "language_info": {
   "codemirror_mode": {
    "name": "ipython",
    "version": 3
   },
   "file_extension": ".py",
   "mimetype": "text/x-python",
   "name": "python",
   "nbconvert_exporter": "python",
   "pygments_lexer": "ipython3",
   "version": "3.7.11"
  }
 },
 "nbformat": 4,
 "nbformat_minor": 5
}
