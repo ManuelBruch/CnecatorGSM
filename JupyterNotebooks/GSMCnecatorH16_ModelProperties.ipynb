{
 "cells": [
  {
   "cell_type": "markdown",
   "id": "60fa254c",
   "metadata": {},
   "source": [
    "# GSM of C. necator: model properties"
   ]
  },
  {
   "cell_type": "markdown",
   "id": "a2cb1470",
   "metadata": {},
   "source": [
    "### load in modules"
   ]
  },
  {
   "cell_type": "code",
   "execution_count": 1,
   "id": "f211c078",
   "metadata": {},
   "outputs": [],
   "source": [
    "import pandas as pd\n",
    "import cobra\n",
    "from cobra.flux_analysis import pfba\n",
    "import json\n",
    "import matplotlib.pyplot as plt\n",
    "from cobra import Model, Reaction, Metabolite\n",
    "import numpy as np"
   ]
  },
  {
   "cell_type": "markdown",
   "id": "5e102d98",
   "metadata": {},
   "source": [
    "### Load in the C. necator H16 GSM"
   ]
  },
  {
   "cell_type": "code",
   "execution_count": 2,
   "id": "e443a8e3",
   "metadata": {},
   "outputs": [
    {
     "name": "stdout",
     "output_type": "stream",
     "text": [
      "Academic license - for non-commercial use only - expires 2022-03-09\n",
      "Using license file /Users/mbznp/gurobi.lic\n"
     ]
    }
   ],
   "source": [
    "m = cobra.io.read_sbml_model('../Model/iCN1361.xml')\n",
    "\n"
   ]
  },
  {
   "cell_type": "markdown",
   "id": "fbffe5e0",
   "metadata": {},
   "source": [
    "### Model Properties"
   ]
  },
  {
   "cell_type": "markdown",
   "id": "e3096380",
   "metadata": {},
   "source": [
    "In this paper we present a new genome-scale metabolic model reconstruction of Cupriavidus necator H16, iCN1393, which consists of 1290 reactions, including 94 transport reactions, and 1315 metabolites, covering 20.63% of the open reading frames. "
   ]
  },
  {
   "cell_type": "markdown",
   "id": "bfbdd32a",
   "metadata": {},
   "source": [
    "|  Feature            | Number  | \n",
    "|------------------|---------------|\n",
    "| Genome size     | 7,416,678 |   \n",
    "| Chromosome 1  | 4,052,032 |  \n",
    "| Chromosome 2    | 2,912,490 |   \n",
    "| Megaplasmid PHG  | 452,156 |  \n",
    "| No. of opening reading frames (ORFs) | 6,626 |      \n",
    "| Chromosome 1 | 3,651 |   \n",
    "| Chromosome 2 | 2,555 |  \n",
    "| Megaplasmic PHG | 420 |\n",
    "| No. of reactions in the model | 1292 |\n",
    "| No. of biochemical reactions | 1190 |\n",
    "| No. of transport reactions | 96 |\n",
    "| No of metabolites | 1265 |\n",
    "| No. of genes assigned in the model | 1361 |\n",
    "| ORF coverage (%) | 20.63% |"
   ]
  },
  {
   "cell_type": "code",
   "execution_count": 3,
   "id": "b3de431a",
   "metadata": {},
   "outputs": [
    {
     "name": "stdout",
     "output_type": "stream",
     "text": [
      "Number of reactions:  1292\n",
      "Number of internal reactions:  1190\n",
      "Number of transporters:  96\n",
      "Number of metabolites:  1265\n",
      "Number of genes in the model:  1361\n",
      "Number of genes in the model from chromosome 1:  822\n",
      "Number of genes in the model from chromosome 2:  494\n",
      "Number of genes in the model from megaplasmid:  45\n"
     ]
    }
   ],
   "source": [
    "intracellular_reactions = 0\n",
    "transporters = 0\n",
    "exclude = ['R_Biomass', 'R_ATPM']\n",
    "for i in m.reactions:\n",
    "    if 'EX_' not in i.id:\n",
    "        if 'transport' not in i.name:\n",
    "            if 'drain' not in i.name:\n",
    "                if i.id not in exclude:\n",
    "                    intracellular_reactions += 1\n",
    "    else:\n",
    "        if 'EX_' in i.id or 'transport' in i.name:\n",
    "            transporters += 1\n",
    "\n",
    "        \n",
    "                \n",
    "\n",
    "chrom1 = 0\n",
    "chrom2 = 0\n",
    "plasmid = 0\n",
    "for i in m.genes:\n",
    "    if 'H16_A' in i.id:\n",
    "        chrom1 += 1\n",
    "    elif 'H16_B' in i.id:\n",
    "        chrom2 += 1\n",
    "    elif 'PHG' in i.id:\n",
    "        plasmid += 1\n",
    "\n",
    "print('Number of reactions: ', len(m.reactions))\n",
    "print('Number of internal reactions: ', intracellular_reactions)\n",
    "print('Number of transporters: ', transporters)\n",
    "print('Number of metabolites: ', len(m.metabolites))\n",
    "print('Number of genes in the model: ', len(m.genes) - 1)\n",
    "print('Number of genes in the model from chromosome 1: ', chrom1)\n",
    "print('Number of genes in the model from chromosome 2: ', chrom2)\n",
    "print('Number of genes in the model from megaplasmid: ', plasmid)"
   ]
  },
  {
   "cell_type": "markdown",
   "id": "e24bb304",
   "metadata": {},
   "source": [
    "### Functional reactions and biocyc pathways"
   ]
  },
  {
   "cell_type": "markdown",
   "id": "fce4c746",
   "metadata": {},
   "source": [
    "Calculate the number of dead and functional reactions using built in function in cobra. The exchange reactions are opened to allow uptake of any nutrient source. The dead and functional pathways and the reactions corresponding to each pathway can be found in 'Supplementary/SupplementaryFile1_GSMinfo'."
   ]
  },
  {
   "cell_type": "code",
   "execution_count": 4,
   "id": "3ec5b670",
   "metadata": {},
   "outputs": [
    {
     "name": "stdout",
     "output_type": "stream",
     "text": [
      "Number of blocked reactions:  442\n",
      "Number of functional reactions:  850\n"
     ]
    }
   ],
   "source": [
    "dead = cobra.flux_analysis.find_blocked_reactions(m, open_exchanges=True)\n",
    "print('Number of blocked reactions: ', len(dead))\n",
    "functional = []\n",
    "for i in m.reactions:\n",
    "    if i.id not in dead:\n",
    "        functional.append(i.id)\n",
    "print('Number of functional reactions: ', len(functional))"
   ]
  },
  {
   "cell_type": "markdown",
   "id": "39d4b086",
   "metadata": {},
   "source": [
    "##### load in biocyc-pathways data"
   ]
  },
  {
   "cell_type": "code",
   "execution_count": 6,
   "id": "15082081",
   "metadata": {},
   "outputs": [],
   "source": [
    "### load the pathways from supplementary files - 'biocyc_pathways' includes all biocyc pathways that were included in the BioCyc flatfiles\n",
    "with open('Data/biocyc_pathways.json', 'r') as fn:\n",
    "    pathways = json.load(fn)\n",
    "### Mapping of the biocyc pathway IDs to common pathway name   \n",
    "with open('Data/pathway_names.json', 'r') as fn:\n",
    "    pathway_names = json.load(fn)\n",
    "    \n",
    "pathway_names2 = {}\n",
    "for i, j in pathway_names.items():\n",
    "    pathway_names2[j[0]] = i"
   ]
  },
  {
   "cell_type": "markdown",
   "id": "4a02f603",
   "metadata": {},
   "source": [
    "##### Map the dead reaction IDs to the biocyc IDs"
   ]
  },
  {
   "cell_type": "code",
   "execution_count": 6,
   "id": "74c0c1a1",
   "metadata": {},
   "outputs": [],
   "source": [
    "dead_biocyc = {}\n",
    "dead_biocyc2 = {}\n",
    "for i in dead:\n",
    "    if 'biocyc' in m.reactions.get_by_id(i).annotation:\n",
    "        if m.reactions.get_by_id(i).annotation['biocyc'] != '':\n",
    "            dead_biocyc[m.reactions.get_by_id(i).annotation['biocyc']] = i\n",
    "            dead_biocyc2[i] = m.reactions.get_by_id(i).annotation['biocyc']"
   ]
  },
  {
   "cell_type": "code",
   "execution_count": 7,
   "id": "403243c3",
   "metadata": {},
   "outputs": [],
   "source": [
    "functional_biocyc = {}\n",
    "for i in functional:\n",
    "    if 'biocyc' in m.reactions.get_by_id(i).annotation:\n",
    "        if m.reactions.get_by_id(i).annotation['biocyc'] != '':\n",
    "            functional_biocyc[m.reactions.get_by_id(i).annotation['biocyc']] = i"
   ]
  },
  {
   "cell_type": "code",
   "execution_count": 8,
   "id": "e3ca4127",
   "metadata": {},
   "outputs": [],
   "source": [
    "# How many of the 443 dead reactions are linked to degradation pathways\n",
    "dead_reacs_deg = []\n",
    "for i, j in pathway_names.items():\n",
    "    if 'degradation' in j[0]:    \n",
    "        for r in pathways[i]:\n",
    "            if r in dead_biocyc.keys():\n",
    "                dead_reacs_deg.append(r)\n"
   ]
  },
  {
   "cell_type": "code",
   "execution_count": 9,
   "id": "ffd0af5f",
   "metadata": {},
   "outputs": [
    {
     "name": "stdout",
     "output_type": "stream",
     "text": [
      "130\n",
      "96\n",
      "41\n",
      "267\n"
     ]
    }
   ],
   "source": [
    "dead_deg = []\n",
    "dead_bio = []\n",
    "dead_other = []\n",
    "for d in dead:\n",
    "    for i, j in pathways.items():\n",
    "        if d in dead_biocyc2:\n",
    "            if dead_biocyc2[d] in j:\n",
    "                if 'biosynthesis' in pathway_names[i][0]:\n",
    "                    dead_bio.append(d)\n",
    "                elif 'degradation' in pathway_names[i][0]:\n",
    "                    dead_deg.append(d)\n",
    "                else:\n",
    "                    dead_other.append(d)\n",
    "print(len(dead_deg))\n",
    "print(len(dead_bio))\n",
    "print(len(dead_other))\n",
    "print(len(dead_deg) + len(dead_bio) + len(dead_other))"
   ]
  },
  {
   "cell_type": "markdown",
   "id": "10ee8cf5",
   "metadata": {},
   "source": [
    "##### Get the blocked and functional pathways"
   ]
  },
  {
   "cell_type": "code",
   "execution_count": 11,
   "id": "417511cd",
   "metadata": {},
   "outputs": [],
   "source": [
    "blocked_pathways = []\n",
    "functional_pathways = []\n",
    "for i, j in pathway_names.items():\n",
    "    dead_path = 0\n",
    "    for r in pathways[i]:\n",
    "        if r in dead_biocyc:\n",
    "            dead_path = 1\n",
    "    if dead_path == 0:\n",
    "        functional_pathways.append(j)\n",
    "    else:\n",
    "        blocked_pathways.append(j)\n",
    "\n",
    "\n",
    "\n",
    "blocked_pathways = []\n",
    "functional_pathways = []\n",
    "for i, j in pathway_names.items():\n",
    "    dead_path = []\n",
    "    for r in pathways[i]:\n",
    "        if r in list(dead_biocyc.keys()):\n",
    "            if dead_biocyc[r] in m.reactions:            \n",
    "                dead_path.append(r)\n",
    "    if len(dead_path) < 1:\n",
    "        functional_pathways.append(j)\n",
    "    else:\n",
    "        blocked_pathways.append(j)\n",
    "\n"
   ]
  },
  {
   "cell_type": "markdown",
   "id": "21cfeebc",
   "metadata": {},
   "source": [
    "##### Total number of blocked pathways"
   ]
  },
  {
   "cell_type": "code",
   "execution_count": 12,
   "id": "312bc07f",
   "metadata": {},
   "outputs": [
    {
     "name": "stdout",
     "output_type": "stream",
     "text": [
      "Number of blocked pathways:  168\n"
     ]
    }
   ],
   "source": [
    "blocked_pathways_reacs = {}\n",
    "for i in blocked_pathways:\n",
    "    reacs_pathway = pathways[pathway_names2[i[0]]]\n",
    "    dead_reacs_path = []\n",
    "    for r in reacs_pathway:\n",
    "        if r in dead_biocyc:\n",
    "            dead_reacs_path.append(r)\n",
    "    blocked_pathways_reacs[i[0]] = dead_reacs_path\n",
    "print('Number of blocked pathways: ', len(blocked_pathways_reacs))   "
   ]
  },
  {
   "cell_type": "markdown",
   "id": "6b920bab",
   "metadata": {},
   "source": [
    "##### Total number of functional pathways"
   ]
  },
  {
   "cell_type": "code",
   "execution_count": 13,
   "id": "bf1ce67e",
   "metadata": {},
   "outputs": [
    {
     "name": "stdout",
     "output_type": "stream",
     "text": [
      "Number of functional pathways:  239\n"
     ]
    }
   ],
   "source": [
    "functional_pathways_reacs = {}\n",
    "for i in functional_pathways:\n",
    "    reacs_pathway = pathways[pathway_names2[i[0]]]\n",
    "    functional_reacs_path = []\n",
    "    for r in reacs_pathway:\n",
    "        if r in functional_biocyc:\n",
    "            functional_reacs_path.append(r)\n",
    "    if functional_reacs_path != []:\n",
    "        functional_pathways_reacs[i[0]] = functional_reacs_path\n",
    "    \n",
    "print('Number of functional pathways: ', len(functional_pathways_reacs))"
   ]
  },
  {
   "cell_type": "markdown",
   "id": "d1a91070",
   "metadata": {},
   "source": [
    "#### Any dead reactions in the model due to promiscuous enzymes? check if the reactions have EC numbers which are the same as at least 1 other functional reactions"
   ]
  },
  {
   "cell_type": "code",
   "execution_count": 14,
   "id": "218bbcda",
   "metadata": {},
   "outputs": [],
   "source": [
    "\n",
    "ec_links = {}\n",
    "ec_numbers = []\n",
    "for i in m.reactions:\n",
    "    if 'ec-code' in i.annotation:\n",
    "        ec = i.annotation['ec-code'].split(' // ')\n",
    "        for j in ec:\n",
    "            ec_numbers.append(j)\n",
    "        \n",
    "ec_numbers = list(set(ec_numbers))\n",
    "for i in ec_numbers:\n",
    "    r_ec = []\n",
    "    for r in m.reactions:\n",
    "        if 'ec-code' in r.annotation:\n",
    "            ec_nums = r.annotation['ec-code'].split(' // ')\n",
    "            for e in ec_nums:\n",
    "                if i == e:\n",
    "                    r_ec.append(r.id)\n",
    "    ec_links[i] = r_ec"
   ]
  },
  {
   "cell_type": "code",
   "execution_count": 15,
   "id": "2d78757f",
   "metadata": {},
   "outputs": [
    {
     "name": "stdout",
     "output_type": "stream",
     "text": [
      "130\n"
     ]
    }
   ],
   "source": [
    "count = 0\n",
    "dead_prom = []\n",
    "for r in dead:\n",
    "    for i, j in ec_links.items():\n",
    "        if str(i) != 'nan':\n",
    "            if r in j:\n",
    "                if len(j) > 1:\n",
    "                    # check if any are functional\n",
    "                    dead_func = 0\n",
    "                    for reac in j:\n",
    "                        if reac in functional:\n",
    "                            dead_func = 1\n",
    "                    if dead_func == 1:\n",
    "                        dead_prom.append(r)\n",
    "                            \n",
    "print(len(dead_prom))"
   ]
  }
 ],
 "metadata": {
  "kernelspec": {
   "display_name": "Python 3 (ipykernel)",
   "language": "python",
   "name": "python3"
  },
  "language_info": {
   "codemirror_mode": {
    "name": "ipython",
    "version": 3
   },
   "file_extension": ".py",
   "mimetype": "text/x-python",
   "name": "python",
   "nbconvert_exporter": "python",
   "pygments_lexer": "ipython3",
   "version": "3.7.11"
  }
 },
 "nbformat": 4,
 "nbformat_minor": 5
}
